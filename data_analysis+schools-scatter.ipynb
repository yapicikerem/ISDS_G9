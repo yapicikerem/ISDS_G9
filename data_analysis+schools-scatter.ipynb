{
 "cells": [
  {
   "cell_type": "markdown",
   "metadata": {},
   "source": [
    "# Import packages"
   ]
  },
  {
   "cell_type": "code",
   "execution_count": 1,
   "metadata": {},
   "outputs": [],
   "source": [
    "import numpy as np\n",
    "import requests\n",
    "from datetime import date\n",
    "import time\n",
    "import math\n",
    "import os\n",
    "import ast\n",
    "import json\n",
    "import osm2geojson\n",
    "import matplotlib.pyplot as plt\n",
    "from mlxtend.plotting import scatterplotmatrix\n",
    "from mlxtend.plotting import heatmap\n",
    "import pandas as pd\n",
    "import tqdm\n",
    "import seaborn as sns\n",
    "import folium\n",
    "import geopandas as gpd\n",
    "import fiona\n",
    "from shapely.geometry import Point\n",
    "import logging\n",
    "from collections import defaultdict\n",
    "import overpy\n",
    "from shapely.geometry.polygon import Polygon\n",
    "from shapely.geometry.multipolygon import MultiPolygon\n",
    "%matplotlib inline\n",
    "\n"
   ]
  },
  {
   "cell_type": "markdown",
   "metadata": {},
   "source": [
    "# Load housing data from Boligsiden API"
   ]
  },
  {
   "cell_type": "code",
   "execution_count": 2,
   "metadata": {},
   "outputs": [],
   "source": [
    "def log(response, logfile, output_path=os.getcwd()):\n",
    "    \"\"\"# Logging function to gather the log information\"\"\"\n",
    "    # Open or create the csv file\n",
    "    if os.path.isfile(logfile): #If the log file exists, open it and allow for changes     \n",
    "        log = open(logfile,'a')\n",
    "    else: #If the log file does not exist, create it and make headers for the log variables\n",
    "        log = open(logfile,'w')\n",
    "        header = ['timestamp','status_code','length','output_file']\n",
    "        log.write(';'.join(header) + \"\\n\") #Make the headers and jump to new line\n",
    "        \n",
    "    # Gather log information\n",
    "    status_code = response.status_code #Status code from the request result\n",
    "    timestamp = time.strftime('%Y-%m-%d %H:%M:%S', time.localtime(time.time())) #Local time\n",
    "    length = len(response.text) #Length of the HTML-string\n",
    "    \n",
    "    # Open the log file and append the gathered log information\n",
    "    with open(logfile,'a') as log:\n",
    "        log.write(f'{timestamp};{status_code};{length};{output_path}' + \"\\n\") #Append the information and jump to new line"
   ]
  },
  {
   "cell_type": "code",
   "execution_count": 3,
   "metadata": {},
   "outputs": [],
   "source": [
    "year_from = 2000 # Determine start year\n",
    "# municipality_codes = [101, 147] # codes for Copenhagen and Frederiksberg\n",
    "# total_pages = [] # list to store pages\n",
    "\n",
    "# base_url = 'https://api.boliga.dk/api/v2/sold/search/results'\n",
    "# for i in range(0, len(municipality_codes)):\n",
    "#     query_url = f'?propertyType=1,2,3,9&municipality={municipality_codes[i]}&salesDateMin={year_from}&salesDateMax=today&sort=date-d&page=1'\n",
    "#     url1 = base_url + query_url\n",
    "#     response = requests.get(url1, headers={'name':'Julius Løve fischer','email':'nbm205@alumni.ku.dk'}).json()\n",
    "#     total_pages.append(response['meta']['totalPages'])\n",
    "\n",
    "# print(response['meta'])"
   ]
  },
  {
   "cell_type": "code",
   "execution_count": 4,
   "metadata": {},
   "outputs": [],
   "source": [
    "# query_urls = [] # list to contain query_urls for main data\n",
    "# [[query_urls.append(f'?propertyType=1,2,3&municipality={municipality}&salesDateMin={year_from}&salesDateMax=today&sort=date-d&page={page_num}')\\\n",
    "#               for page_num in range(1, pages + 1)] for municipality, pages in zip(municipality_codes, total_pages)]\n",
    "\n",
    "# query_urls_extra = [] # list to contain query_urls for extra housing information using Boliga BBR database\n",
    "# [[query_urls_extra.append(f'?propertyType=1,2,3,9&municipality={municipality}&salesDateMin={year_from}&salesDateMax=today&sort=date-d&page={page_num}')\\\n",
    "#               for page_num in range(1, pages + 1)] for municipality, pages in zip(municipality_codes, total_pages)]\n",
    "\n",
    "def scraper(base_url, query_urls, title, type = ''):\n",
    "    logfile = f'log{title}.csv'\n",
    "    df = pd.DataFrame()\n",
    "    for query_url in tqdm.tqdm(query_urls):\n",
    "        url = base_url + query_url\n",
    "        try:\n",
    "            response = requests.get(url, headers={'name':'Julius Løve fischer','email':'nbm205@alumni.ku.dk'})\n",
    "        except Exception as e:\n",
    "            print(url) #Print url\n",
    "            print(f'An error has occured: {e}') #Print error\n",
    "            df.to_csv(f'{title}.csv') #Save the dataframe as a csv file to retrieve at another time\n",
    "            continue #Continue to next iteration of the loop\n",
    "        \n",
    "        if response.ok: #Check if the response carries any data\n",
    "            result_json = response.json() #If the response carries data, then convert it to json format\n",
    "        else: #If the response does not carry any data, then print the status_code and continue to next iteration of the loop\n",
    "            print(f'Status code: {response.status_code}')\n",
    "            continue\n",
    "        \n",
    "        if type == 'BBR':\n",
    "            result_df = pd.Series(result_json) #Convert this iteration's json file to a series\n",
    "            df = pd.concat([df,result_df], axis=1, ignore_index=True) #Append to the rest of the data\n",
    "        else:\n",
    "            result_df = pd.DataFrame(result_json['results']) #Convert this iteration's json file to a dataframe\n",
    "            df = pd.concat([df,result_df], axis=0, ignore_index=True) #Append to the rest of the data\n",
    "        log(response, logfile)\n",
    "        time.sleep(0.1) #Sleep for 0.1 seconds\n",
    "        \n",
    "    if type == 'BBR':\n",
    "        return df.transpose()\n",
    "    else:\n",
    "        return df\n",
    "\n",
    "# houses = scraper(base_url, query_urls, 'houses')\n",
    "    \n",
    "# # houses.to_csv('houses.csv', index=False)"
   ]
  },
  {
   "cell_type": "markdown",
   "metadata": {},
   "source": [
    "# Clean and transform Boliga data"
   ]
  },
  {
   "cell_type": "code",
   "execution_count": 5,
   "metadata": {},
   "outputs": [],
   "source": [
    "# houses = pd.read_csv('houses.csv')\n",
    "\n",
    "# column_selection = ['address', 'zipCode', 'price', 'soldDate', 'propertyType',\n",
    "#             'saleType', 'sqmPrice', 'rooms', 'size', 'buildYear', 'guid', 'latitude',\n",
    "#             'longitude', 'municipalityCode', 'city']\n",
    "\n",
    "# houses = houses[column_selection].query(\"saleType == 'Alm. Salg'\") # select relevant columns and sale types\n",
    "# houses['unitId'] = houses['guid'].str.lower() # Convert to lower case for merging with bbr dataframe\n",
    "# houses['soldDate'] = pd.to_datetime(houses['soldDate'].astype(str)).dt.date\n",
    "# houses = houses.sort_values(by=\"soldDate\", ascending = False) # Dataframe is not sorted by default as we have two query_lists"
   ]
  },
  {
   "cell_type": "code",
   "execution_count": 6,
   "metadata": {},
   "outputs": [],
   "source": [
    "# # Load housing specific details such as no. of bathrooms, energy label etc.\n",
    "\n",
    "# base_url_bbr = 'https://api.boliga.dk/api/v2/bbrinfo/bbr' # Boliga BBR-register\n",
    "# query_urls_bbr = '?id=' + houses['guid'].to_numpy()\n",
    "# bbr = scraper(base_url_bbr, query_urls_bbr[0:10], 'bbr', 'BBR')\n",
    "\n",
    "# # Extracting relevant columns before creating parquet object to reduce file fize\n",
    "# column_selection_bbr = ['unitId', 'addressFloor', 'ejendomsværdiskat', 'grundskyld', 'propertyTypeName',\n",
    "#                         'bbrInfoBox', 'buildingInfo', 'unitInfo']\n",
    "# bbr = bbr[column_selection_bbr]\n",
    "\n",
    "# bbr.to_parquet('df.parquet1.gzip',\n",
    "#               compression='gzip')"
   ]
  },
  {
   "cell_type": "code",
   "execution_count": 7,
   "metadata": {},
   "outputs": [],
   "source": [
    "# bbr = pd.read_parquet('df.parquet.gzip')\n",
    "# unpack_values = ['bbrInfoBox', 'unitInfo']\n",
    "# for i in unpack_values:\n",
    "#     bbr = pd.concat([bbr, bbr[i].apply(ast.literal_eval).apply(pd.Series)], axis=1)\n",
    "# bbr = bbr.drop(unpack_values, axis=1)"
   ]
  },
  {
   "cell_type": "code",
   "execution_count": 8,
   "metadata": {},
   "outputs": [],
   "source": [
    "# houses = pd.merge(houses, bbr, on='unitId', how='inner') # Inner merge to discard NaN's, if any\n",
    "# # houses = houses.set_index('soldDate').drop('guid', axis=1) # Set soldDate as index\n",
    "\n",
    "# # Select relevant columns in order to save as gzip file (duplicate columns are not allowed in parquet method)\n",
    "# column_selection_2 = ['soldDate', 'address', 'propertyType', 'price', 'sqmPrice', 'size', 'rooms', 'buildYear', 'latitude', 'longitude',\n",
    "#                         'city', 'addressFloor', 'ejendomsværdiskat', 'grundskyld', 'monthlyPropertyTax',\n",
    "#                         'lotSize', 'basementSize', 'appliance', 'toiletQuantity', 'bathroomQuantity', 'kitchenCode',\n",
    "#                         'energyCode', 'heatingInstallationCode', 'heatingCode', 'heatingSecondaryCode']\n",
    "# houses = houses[column_selection_2]\n",
    "\n",
    "# # houses.to_parquet('houses_merged.gzip',\n",
    "# #               compression='gzip')"
   ]
  },
  {
   "cell_type": "code",
   "execution_count": 9,
   "metadata": {},
   "outputs": [
    {
     "data": {
      "image/png": "[encoded data removed]",
      "text/plain": [
       "<Figure size 720x432 with 1 Axes>"
      ]
     },
     "metadata": {
      "needs_background": "light"
     },
     "output_type": "display_data"
    }
   ],
   "source": [
    "houses = pd.read_parquet('houses_merged.gzip')\n",
    "\n",
    "# Converting column types automatically\n",
    "houses.convert_dtypes().dtypes\n",
    "\n",
    "# Remove duplicate addresses\n",
    "houses.drop_duplicates(subset=['address'], keep='first')\n",
    "\n",
    "# Replace missings with NaN's\n",
    "houses.replace('-', np.NaN, inplace=True)\n",
    "# Check relevant columns for zero values\n",
    "zero_columns = ['buildYear', 'ejendomsværdiskat', 'grundskyld', 'monthlyPropertyTax','toiletQuantity', 'bathroomQuantity']\n",
    "# Assume zeros are missing values and convert to NaN's\n",
    "houses[zero_columns] = houses[zero_columns].replace({'0':np.nan, 0:np.nan})\n",
    "\n",
    "# This way, we can count the number of missing values per column;\n",
    "houses.isnull().sum() \n",
    "\n",
    "# As a share of total\n",
    "shares = houses.isnull().sum(axis=0) * 100 / len(houses)\n",
    "shares = shares.round(decimals=1).sort_values(ascending=False).to_dict()\n",
    "\n",
    "# Plot shares of missing values\n",
    "f, ax = plt.subplots(figsize=(10, 6))\n",
    "plt.xticks(rotation='90')\n",
    "sns.barplot(x = list(shares.keys()), y = list(shares.values()))\n",
    "for i in ax.containers:\n",
    "    ax.bar_label(i,)\n",
    "plt.xlabel('Features', fontsize=15)\n",
    "plt.ylabel('Percent of missing values', fontsize=15)\n",
    "plt.title('Percent missing data by feature', fontsize=15)\n",
    "\n",
    "#Saving picture as .png\n",
    "plt.savefig('missing_values.png', bbox_inches=\"tight\")"
   ]
  },
  {
   "cell_type": "code",
   "execution_count": 10,
   "metadata": {},
   "outputs": [],
   "source": [
    "# Drop columns with more than 3 % missing values\n",
    "list_missings = ['heatingCode', 'heatingInstallationCode', 'heatingSecondaryCode', 'energyCode',\n",
    "                'ejendomsværdiskat', 'addressFloor']\n",
    "houses = houses.drop(columns = list_missings)\n",
    "\n",
    "# Remove missing values\n",
    "houses = houses.dropna()"
   ]
  },
  {
   "cell_type": "markdown",
   "metadata": {},
   "source": [
    "# Merge Consumer Price Index with Boliga Data and remove Outliers"
   ]
  },
  {
   "cell_type": "markdown",
   "metadata": {},
   "source": [
    "**The console that we use is: [console](https://api.statbank.dk/console)**"
   ]
  },
  {
   "cell_type": "code",
   "execution_count": 11,
   "metadata": {},
   "outputs": [],
   "source": [
    "# Construct API request\n",
    "def construct_link(table_id, variables):\n",
    "    base = f'https://api.statbank.dk/v1/data/{table_id}/JSONSTAT?Tid=*'\n",
    "    \n",
    "    for var in variables:\n",
    "        base += f'&{var}'\n",
    "\n",
    "    return base \n",
    "\n",
    "url = construct_link('PRIS116', ['Tid=*'])\n",
    "\n",
    "def create_data(url):\n",
    "    response = requests.get(url).json()\n",
    "    values = response['dataset']['value']\n",
    "    years = response['dataset']['dimension']['Tid']['category']['index']\n",
    "    years = list(years)\n",
    "    data = dict(zip(years, values))\n",
    "    return data\n",
    "\n",
    "data = create_data(url)"
   ]
  },
  {
   "cell_type": "code",
   "execution_count": 12,
   "metadata": {},
   "outputs": [
    {
     "data": {
      "text/html": [
       "<div>\n",
       "<style scoped>\n",
       "    .dataframe tbody tr th:only-of-type {\n",
       "        vertical-align: middle;\n",
       "    }\n",
       "\n",
       "    .dataframe tbody tr th {\n",
       "        vertical-align: top;\n",
       "    }\n",
       "\n",
       "    .dataframe thead th {\n",
       "        text-align: right;\n",
       "    }\n",
       "</style>\n",
       "<table border=\"1\" class=\"dataframe\">\n",
       "  <thead>\n",
       "    <tr style=\"text-align: right;\">\n",
       "      <th></th>\n",
       "      <th>years</th>\n",
       "      <th>net_index</th>\n",
       "    </tr>\n",
       "  </thead>\n",
       "  <tbody>\n",
       "    <tr>\n",
       "      <th>0</th>\n",
       "      <td>1980M01</td>\n",
       "      <td>34.1</td>\n",
       "    </tr>\n",
       "    <tr>\n",
       "      <th>1</th>\n",
       "      <td>1980M02</td>\n",
       "      <td>34.4</td>\n",
       "    </tr>\n",
       "    <tr>\n",
       "      <th>2</th>\n",
       "      <td>1980M03</td>\n",
       "      <td>34.9</td>\n",
       "    </tr>\n",
       "    <tr>\n",
       "      <th>3</th>\n",
       "      <td>1980M04</td>\n",
       "      <td>35.2</td>\n",
       "    </tr>\n",
       "    <tr>\n",
       "      <th>4</th>\n",
       "      <td>1980M05</td>\n",
       "      <td>35.8</td>\n",
       "    </tr>\n",
       "    <tr>\n",
       "      <th>...</th>\n",
       "      <td>...</td>\n",
       "      <td>...</td>\n",
       "    </tr>\n",
       "    <tr>\n",
       "      <th>506</th>\n",
       "      <td>2022M03</td>\n",
       "      <td>110.1</td>\n",
       "    </tr>\n",
       "    <tr>\n",
       "      <th>507</th>\n",
       "      <td>2022M04</td>\n",
       "      <td>111.6</td>\n",
       "    </tr>\n",
       "    <tr>\n",
       "      <th>508</th>\n",
       "      <td>2022M05</td>\n",
       "      <td>112.7</td>\n",
       "    </tr>\n",
       "    <tr>\n",
       "      <th>509</th>\n",
       "      <td>2022M06</td>\n",
       "      <td>113.6</td>\n",
       "    </tr>\n",
       "    <tr>\n",
       "      <th>510</th>\n",
       "      <td>2022M07</td>\n",
       "      <td>115.1</td>\n",
       "    </tr>\n",
       "  </tbody>\n",
       "</table>\n",
       "<p>511 rows × 2 columns</p>\n",
       "</div>"
      ],
      "text/plain": [
       "       years  net_index\n",
       "0    1980M01       34.1\n",
       "1    1980M02       34.4\n",
       "2    1980M03       34.9\n",
       "3    1980M04       35.2\n",
       "4    1980M05       35.8\n",
       "..       ...        ...\n",
       "506  2022M03      110.1\n",
       "507  2022M04      111.6\n",
       "508  2022M05      112.7\n",
       "509  2022M06      113.6\n",
       "510  2022M07      115.1\n",
       "\n",
       "[511 rows x 2 columns]"
      ]
     },
     "execution_count": 12,
     "metadata": {},
     "output_type": "execute_result"
    }
   ],
   "source": [
    "net_inflation = pd.DataFrame({'years': list(data.keys()), 'net_index': list(data.values())})\n",
    "net_inflation"
   ]
  },
  {
   "cell_type": "markdown",
   "metadata": {},
   "source": [
    "Change baseindex from 2015 to 2021:"
   ]
  },
  {
   "cell_type": "code",
   "execution_count": 13,
   "metadata": {},
   "outputs": [
    {
     "data": {
      "text/html": [
       "<div>\n",
       "<style scoped>\n",
       "    .dataframe tbody tr th:only-of-type {\n",
       "        vertical-align: middle;\n",
       "    }\n",
       "\n",
       "    .dataframe tbody tr th {\n",
       "        vertical-align: top;\n",
       "    }\n",
       "\n",
       "    .dataframe thead th {\n",
       "        text-align: right;\n",
       "    }\n",
       "</style>\n",
       "<table border=\"1\" class=\"dataframe\">\n",
       "  <thead>\n",
       "    <tr style=\"text-align: right;\">\n",
       "      <th></th>\n",
       "      <th>years</th>\n",
       "      <th>net_index</th>\n",
       "      <th>2022M07 = 100</th>\n",
       "    </tr>\n",
       "  </thead>\n",
       "  <tbody>\n",
       "    <tr>\n",
       "      <th>0</th>\n",
       "      <td>1980M01</td>\n",
       "      <td>34.1</td>\n",
       "      <td>29.6</td>\n",
       "    </tr>\n",
       "    <tr>\n",
       "      <th>1</th>\n",
       "      <td>1980M02</td>\n",
       "      <td>34.4</td>\n",
       "      <td>29.9</td>\n",
       "    </tr>\n",
       "    <tr>\n",
       "      <th>2</th>\n",
       "      <td>1980M03</td>\n",
       "      <td>34.9</td>\n",
       "      <td>30.3</td>\n",
       "    </tr>\n",
       "    <tr>\n",
       "      <th>3</th>\n",
       "      <td>1980M04</td>\n",
       "      <td>35.2</td>\n",
       "      <td>30.6</td>\n",
       "    </tr>\n",
       "    <tr>\n",
       "      <th>4</th>\n",
       "      <td>1980M05</td>\n",
       "      <td>35.8</td>\n",
       "      <td>31.1</td>\n",
       "    </tr>\n",
       "    <tr>\n",
       "      <th>...</th>\n",
       "      <td>...</td>\n",
       "      <td>...</td>\n",
       "      <td>...</td>\n",
       "    </tr>\n",
       "    <tr>\n",
       "      <th>420</th>\n",
       "      <td>2015M01</td>\n",
       "      <td>98.7</td>\n",
       "      <td>85.8</td>\n",
       "    </tr>\n",
       "    <tr>\n",
       "      <th>421</th>\n",
       "      <td>2015M02</td>\n",
       "      <td>99.8</td>\n",
       "      <td>86.7</td>\n",
       "    </tr>\n",
       "    <tr>\n",
       "      <th>422</th>\n",
       "      <td>2015M03</td>\n",
       "      <td>100.2</td>\n",
       "      <td>87.1</td>\n",
       "    </tr>\n",
       "    <tr>\n",
       "      <th>423</th>\n",
       "      <td>2015M04</td>\n",
       "      <td>100.3</td>\n",
       "      <td>87.1</td>\n",
       "    </tr>\n",
       "    <tr>\n",
       "      <th>424</th>\n",
       "      <td>2015M05</td>\n",
       "      <td>100.3</td>\n",
       "      <td>87.1</td>\n",
       "    </tr>\n",
       "  </tbody>\n",
       "</table>\n",
       "<p>425 rows × 3 columns</p>\n",
       "</div>"
      ],
      "text/plain": [
       "       years  net_index  2022M07 = 100\n",
       "0    1980M01       34.1           29.6\n",
       "1    1980M02       34.4           29.9\n",
       "2    1980M03       34.9           30.3\n",
       "3    1980M04       35.2           30.6\n",
       "4    1980M05       35.8           31.1\n",
       "..       ...        ...            ...\n",
       "420  2015M01       98.7           85.8\n",
       "421  2015M02       99.8           86.7\n",
       "422  2015M03      100.2           87.1\n",
       "423  2015M04      100.3           87.1\n",
       "424  2015M05      100.3           87.1\n",
       "\n",
       "[425 rows x 3 columns]"
      ]
     },
     "execution_count": 13,
     "metadata": {},
     "output_type": "execute_result"
    }
   ],
   "source": [
    "net_inflation['2022M07 = 100'] =  round(net_inflation['net_index']/net_inflation['net_index'].iloc[-1]*100,1) \n",
    "net_inflation.head(425)"
   ]
  },
  {
   "cell_type": "code",
   "execution_count": 14,
   "metadata": {},
   "outputs": [
    {
     "data": {
      "image/png": "[encoded data removed]",
      "text/plain": [
       "<Figure size 432x288 with 1 Axes>"
      ]
     },
     "metadata": {
      "needs_background": "light"
     },
     "output_type": "display_data"
    }
   ],
   "source": [
    "net_inflation.plot(x ='years', y=['2022M07 = 100','net_index']);"
   ]
  },
  {
   "cell_type": "code",
   "execution_count": 15,
   "metadata": {},
   "outputs": [
    {
     "data": {
      "text/html": [
       "<div>\n",
       "<style scoped>\n",
       "    .dataframe tbody tr th:only-of-type {\n",
       "        vertical-align: middle;\n",
       "    }\n",
       "\n",
       "    .dataframe tbody tr th {\n",
       "        vertical-align: top;\n",
       "    }\n",
       "\n",
       "    .dataframe thead th {\n",
       "        text-align: right;\n",
       "    }\n",
       "</style>\n",
       "<table border=\"1\" class=\"dataframe\">\n",
       "  <thead>\n",
       "    <tr style=\"text-align: right;\">\n",
       "      <th></th>\n",
       "      <th>years</th>\n",
       "      <th>net_index</th>\n",
       "      <th>2022M07 = 100</th>\n",
       "    </tr>\n",
       "  </thead>\n",
       "  <tbody>\n",
       "    <tr>\n",
       "      <th>0</th>\n",
       "      <td>198001</td>\n",
       "      <td>34.1</td>\n",
       "      <td>29.6</td>\n",
       "    </tr>\n",
       "    <tr>\n",
       "      <th>1</th>\n",
       "      <td>198002</td>\n",
       "      <td>34.4</td>\n",
       "      <td>29.9</td>\n",
       "    </tr>\n",
       "    <tr>\n",
       "      <th>2</th>\n",
       "      <td>198003</td>\n",
       "      <td>34.9</td>\n",
       "      <td>30.3</td>\n",
       "    </tr>\n",
       "    <tr>\n",
       "      <th>3</th>\n",
       "      <td>198004</td>\n",
       "      <td>35.2</td>\n",
       "      <td>30.6</td>\n",
       "    </tr>\n",
       "    <tr>\n",
       "      <th>4</th>\n",
       "      <td>198005</td>\n",
       "      <td>35.8</td>\n",
       "      <td>31.1</td>\n",
       "    </tr>\n",
       "    <tr>\n",
       "      <th>...</th>\n",
       "      <td>...</td>\n",
       "      <td>...</td>\n",
       "      <td>...</td>\n",
       "    </tr>\n",
       "    <tr>\n",
       "      <th>506</th>\n",
       "      <td>202203</td>\n",
       "      <td>110.1</td>\n",
       "      <td>95.7</td>\n",
       "    </tr>\n",
       "    <tr>\n",
       "      <th>507</th>\n",
       "      <td>202204</td>\n",
       "      <td>111.6</td>\n",
       "      <td>97.0</td>\n",
       "    </tr>\n",
       "    <tr>\n",
       "      <th>508</th>\n",
       "      <td>202205</td>\n",
       "      <td>112.7</td>\n",
       "      <td>97.9</td>\n",
       "    </tr>\n",
       "    <tr>\n",
       "      <th>509</th>\n",
       "      <td>202206</td>\n",
       "      <td>113.6</td>\n",
       "      <td>98.7</td>\n",
       "    </tr>\n",
       "    <tr>\n",
       "      <th>510</th>\n",
       "      <td>202207</td>\n",
       "      <td>115.1</td>\n",
       "      <td>100.0</td>\n",
       "    </tr>\n",
       "  </tbody>\n",
       "</table>\n",
       "<p>511 rows × 3 columns</p>\n",
       "</div>"
      ],
      "text/plain": [
       "      years  net_index  2022M07 = 100\n",
       "0    198001       34.1           29.6\n",
       "1    198002       34.4           29.9\n",
       "2    198003       34.9           30.3\n",
       "3    198004       35.2           30.6\n",
       "4    198005       35.8           31.1\n",
       "..      ...        ...            ...\n",
       "506  202203      110.1           95.7\n",
       "507  202204      111.6           97.0\n",
       "508  202205      112.7           97.9\n",
       "509  202206      113.6           98.7\n",
       "510  202207      115.1          100.0\n",
       "\n",
       "[511 rows x 3 columns]"
      ]
     },
     "execution_count": 15,
     "metadata": {},
     "output_type": "execute_result"
    }
   ],
   "source": [
    "net_inflation[\"years\"] = net_inflation[\"years\"].str.replace(\"M\",\"\")\n",
    "net_inflation"
   ]
  },
  {
   "cell_type": "code",
   "execution_count": 16,
   "metadata": {},
   "outputs": [],
   "source": [
    "# converting the string to datetime format\n",
    "net_inflation['years'] = pd.to_datetime(net_inflation['years'], format='%Y%m').dt.year\n",
    "\n",
    "net_inflation = net_inflation.iloc[::12, :] # COMMENT\n",
    "\n",
    "inflation_dict = dict(zip(net_inflation.years.astype(int), net_inflation['2022M07 = 100'])) # COMMENT\n",
    "inflation_dict[2022] = 100\n",
    "\n",
    "houses['inflation (2022M07 = 100)'] = [inflation_dict[year] for year in pd.to_datetime(houses.soldDate).dt.year]\n",
    "\n",
    "houses['real_price'] = (houses.price/houses['inflation (2022M07 = 100)'])*100\n",
    "\n",
    "# Remove outliers based on  sqmPrice after adjusting for CPI\n",
    "houses['real_sqmPrice'] = (houses.sqmPrice/houses['inflation (2022M07 = 100)'])*100\n",
    "houses = houses.loc[(houses['real_sqmPrice']<=160000) & (houses['real_sqmPrice']>=10000)]\n",
    "houses.reset_index(drop = True, inplace = True)"
   ]
  },
  {
   "cell_type": "code",
   "execution_count": 17,
   "metadata": {},
   "outputs": [
    {
     "data": {
      "image/png": "[encoded data removed]",
      "text/plain": [
       "<Figure size 1000x600 with 1 Axes>"
      ]
     },
     "metadata": {
      "needs_background": "light"
     },
     "output_type": "display_data"
    }
   ],
   "source": [
    "\n",
    "# a. main figure\n",
    "fig = plt.figure(figsize=(10,6),dpi=100)\n",
    "\n",
    "# b. customization \n",
    "ax = fig.add_subplot(1,1,1)\n",
    "\n",
    "ax.plot(houses.groupby([pd.to_datetime(houses.soldDate).dt.year])['real_sqmPrice'].mean(),ls='-',lw=2,color='navy',label='Real sqm Price')\n",
    "ax.plot(houses.groupby([pd.to_datetime(houses.soldDate).dt.year])['sqmPrice'].mean(),ls='-',lw=2,color='orange',label='Nominal sqm Price')\n",
    "\n",
    "# b. customization \n",
    "ax.set_xlabel('year')\n",
    "ax.set_ylabel('DKK')\n",
    "ax.grid(False)\n",
    "ax.axvspan(2012, 2022, facecolor='lightsteelblue', alpha=0.4)\n",
    "#plt.title('Figure X: Nominal- and real sqm prices adjusted for inflation in the period 2000-2022',fontweight='bold')\n",
    "ax.legend(loc='upper left',frameon=True);\n",
    "\n",
    "#Saving picture as .png\n",
    "plt.savefig('sqm_price.png', bbox_inches=\"tight\")"
   ]
  },
  {
   "cell_type": "code",
   "execution_count": 18,
   "metadata": {},
   "outputs": [
    {
     "name": "stderr",
     "output_type": "stream",
     "text": [
      "c:\\Users\\Kerem\\anaconda3\\envs\\isds\\lib\\site-packages\\seaborn\\_decorators.py:36: FutureWarning: Pass the following variable as a keyword arg: x. From version 0.12, the only valid positional argument will be `data`, and passing other arguments without an explicit keyword will result in an error or misinterpretation.\n",
      "  warnings.warn(\n",
      "c:\\Users\\Kerem\\anaconda3\\envs\\isds\\lib\\site-packages\\seaborn\\_decorators.py:36: FutureWarning: Pass the following variable as a keyword arg: x. From version 0.12, the only valid positional argument will be `data`, and passing other arguments without an explicit keyword will result in an error or misinterpretation.\n",
      "  warnings.warn(\n"
     ]
    },
    {
     "data": {
      "text/plain": [
       "<Figure size 432x288 with 0 Axes>"
      ]
     },
     "metadata": {},
     "output_type": "display_data"
    },
    {
     "data": {
      "image/png": "[encoded data removed]",
      "text/plain": [
       "<Figure size 1080x360 with 4 Axes>"
      ]
     },
     "metadata": {
      "needs_background": "light"
     },
     "output_type": "display_data"
    }
   ],
   "source": [
    "# Transform sqmPrices to logs\n",
    "houses['log_real_price'] = np.log(houses['real_price'])\n",
    "# Create year variable to create year dummies\n",
    "houses['year'] = pd.DatetimeIndex(houses['soldDate']).year\n",
    "# Drop irrelevant columns\n",
    "\n",
    "sns.despine()\n",
    "sns.set_context(\"paper\")\n",
    "# creating a figure composed of two matplotlib.Axes objects (ax_box and ax_hist)\n",
    "fig, (ax_box, ax_hist) = plt.subplots(2,2, sharex=False, gridspec_kw={\"height_ratios\": (.20, .80),}, figsize=(15,5))\n",
    "\n",
    "# assigning a graph to each ax\n",
    "sns.boxplot(houses['real_price'], ax=ax_box[0]).set(xlabel=None)\n",
    "sns.boxplot(houses['log_real_price'], ax=ax_box[1]).set(xlabel=None)\n",
    "\n",
    "sns.histplot(data=houses['real_price'], bins=15, kde=True, ax=ax_hist[0])\n",
    "sns.histplot(data=houses['log_real_price'], bins=15, kde=True, ax=ax_hist[1])\n",
    "\n",
    "#seaborn border settings\n",
    "sns.despine(top = True, right= True)\n",
    "\n",
    "#Saving picture as .png\n",
    "plt.savefig('box_hist_prices.png', bbox_inches=\"tight\")"
   ]
  },
  {
   "cell_type": "code",
   "execution_count": 19,
   "metadata": {},
   "outputs": [
    {
     "name": "stdout",
     "output_type": "stream",
     "text": [
      "\\begin{tabular}{lrrrrrrrrrrrrrrrrrrr}\n",
      "\\toprule\n",
      "{} &  propertyType &         price &       sqmPrice &          size &         rooms &     buildYear &      latitude &     longitude &    grundskyld &  monthlyPropertyTax &       lotSize &  basementSize &  toiletQuantity &  bathroomQuantity &  inflation (2022M07 = 100) &    real\\_price &  real\\_sqmPrice &  log\\_real\\_price &          year \\\\\n",
      "\\midrule\n",
      "count &  73380.000000 &  7.338000e+04 &   73380.000000 &  73380.000000 &  73380.000000 &  73380.000000 &  73380.000000 &  73380.000000 &  7.338000e+04 &        73380.000000 &  73380.000000 &  73380.000000 &    73380.000000 &      73380.000000 &               73380.000000 &  7.338000e+04 &   73380.000000 &    73380.000000 &  73380.000000 \\\\\n",
      "mean  &      2.712306 &  3.776863e+06 &   38496.641263 &     97.276901 &      3.312824 &   1943.555288 &     55.678419 &     12.551865 &  2.723472e+04 &         3324.958245 &    129.702766 &     18.073194 &        1.228264 &          1.118520 &                  85.203621 &  4.399153e+06 &   44693.335853 &       15.121428 &   2015.265631 \\\\\n",
      "std   &      0.657679 &  2.672156e+06 &   16931.641594 &     43.292748 &      1.456792 &     44.918131 &      0.022806 &      0.042537 &  1.801238e+05 &        14978.821557 &    502.913515 &     62.117957 &        0.489614 &          0.342787 &                   7.486996 &  3.063438e+06 &   18820.140480 &        0.581825 &      5.724005 \\\\\n",
      "min   &      1.000000 &  3.395830e+05 &    6405.228500 &     22.000000 &      1.000000 &   1623.000000 &     55.616314 &     12.453647 &  1.496000e+02 &           63.000000 &      0.000000 &      0.000000 &        1.000000 &          1.000000 &                  64.000000 &  4.186603e+05 &   10006.077546 &       12.944815 &   2000.000000 \\\\\n",
      "25\\%   &      3.000000 &  2.095000e+06 &   27146.592000 &     64.000000 &      2.000000 &   1910.000000 &     55.661190 &     12.519716 &  4.297600e+03 &         1047.000000 &      0.000000 &      0.000000 &        1.000000 &          1.000000 &                  84.600000 &  2.488426e+06 &   32894.736842 &       14.727161 &   2013.000000 \\\\\n",
      "50\\%   &      3.000000 &  3.165000e+06 &   36650.000000 &     90.000000 &      3.000000 &   1935.000000 &     55.679108 &     12.551248 &  8.262000e+03 &         1821.000000 &      0.000000 &      0.000000 &        1.000000 &          1.000000 &                  87.300000 &  3.721418e+06 &   42241.363503 &       15.129615 &   2017.000000 \\\\\n",
      "75\\%   &      3.000000 &  4.650000e+06 &   46776.207500 &    120.000000 &      4.000000 &   1975.000000 &     55.697470 &     12.585123 &  1.994226e+04 &         3235.000000 &      0.000000 &      0.000000 &        1.000000 &          1.000000 &                  90.000000 &  5.376940e+06 &   52918.412223 &       15.497630 &   2020.000000 \\\\\n",
      "max   &      3.000000 &  6.115000e+07 &  159813.080000 &    971.000000 &     35.000000 &   2022.000000 &     55.731308 &     12.639575 &  7.105653e+06 &       592138.000000 &  32738.000000 &   1308.000000 &       22.000000 &          7.000000 &                 100.000000 &  6.160714e+07 &  159978.904429 &       17.936288 &   2022.000000 \\\\\n",
      "\\bottomrule\n",
      "\\end{tabular}\n",
      "\n"
     ]
    }
   ],
   "source": [
    "print(houses.describe().to_latex(index=True))"
   ]
  },
  {
   "cell_type": "markdown",
   "metadata": {},
   "source": [
    "# Machine Learning"
   ]
  },
  {
   "cell_type": "code",
   "execution_count": 20,
   "metadata": {},
   "outputs": [],
   "source": [
    "houses = houses.drop(columns = ['price', 'real_price', 'sqmPrice', 'real_sqmPrice', 'inflation (2022M07 = 100)', 'soldDate', 'address', 'latitude', 'longitude'])\n",
    "houses = houses.query(\"year >= 2012\")\n",
    "# Categorical variables\n",
    "cat_var = ['propertyType', 'city', 'appliance', 'kitchenCode', 'year']\n",
    "houses[cat_var] = houses[cat_var].astype('category')\n",
    "houses = pd.get_dummies(houses, drop_first=True)\n",
    "\n",
    "# Create feature matrix and label column\n",
    "X = houses.drop('log_real_price', axis = 1)\n",
    "Y = houses['log_real_price']\n",
    "\n",
    "# Make train-test split\n",
    "from sklearn.model_selection import train_test_split\n",
    "X_train, X_test, y_train, y_test = train_test_split(X,Y, test_size=.5, random_state=2022)\n",
    "\n",
    "# Create Pipeline\n",
    "from sklearn.pipeline import make_pipeline\n",
    "from sklearn.preprocessing import StandardScaler, PolynomialFeatures\n",
    "\n",
    "pipe_prep = make_pipeline(PolynomialFeatures(degree=2, include_bias=True),                           \n",
    "                          StandardScaler())\n"
   ]
  },
  {
   "cell_type": "code",
   "execution_count": 21,
   "metadata": {},
   "outputs": [],
   "source": [
    "# houses = houses.drop(columns = ['sqmPrice', 'real_sqmPrice', 'inflation (2022M07 = 100)'])\n",
    "# # Create matrix of scatterplots\n",
    "# cols_scatter = ['rooms', 'buildYear', 'city', 'grundskyld', 'monthlyPropertyTax', 'lotSize', 'basementSize',\n",
    "#                 'appliance', 'toiletQuantity', 'bathroomQuantity', 'kitchenCode', 'year', 'log_real_sqmPrice']\n",
    "# scatterplotmatrix(houses[cols_scatter].values, figsize=(10, 8), names=cols_scatter, alpha=0.5)"
   ]
  },
  {
   "cell_type": "code",
   "execution_count": 22,
   "metadata": {},
   "outputs": [],
   "source": [
    "###### Vi skal finde ud af hvordan man laver correlation plots med kategoriske variable - måske Kendall's correlation coefficient\n",
    "# Create Correlation Matrix\n",
    "# cm = np.corrcoef(houses[cols_scatter].values.T)\n",
    "# hm = heatmap(cm, row_names=cols_scatter, column_names=cols_scatter)"
   ]
  },
  {
   "cell_type": "markdown",
   "metadata": {},
   "source": [
    "# Plotting with GeoPandas and OSM"
   ]
  },
  {
   "cell_type": "code",
   "execution_count": 23,
   "metadata": {},
   "outputs": [
    {
     "name": "stdout",
     "output_type": "stream",
     "text": [
      "Getting data for cph\n",
      "next\n",
      "Getting data for frb\n",
      "next\n",
      "done\n",
      "cph: 40 polygons,  0 incomplete (OK)\n",
      "frb:  1 polygons,  0 incomplete (OK)\n"
     ]
    }
   ],
   "source": [
    "def ways2poly(ways):\n",
    "    \"\"\"\n",
    "    Given an iterable of `ways`, combined them into one or more polygons.\n",
    "    \n",
    "    Args:\n",
    "        ways: iterable of `overpy.Way` that form the desired polygon:w\n",
    "        \n",
    "    Return:\n",
    "        polys, incomplete: `polys` is a list of list of  (long, lat) coords describing \n",
    "            valid (i.e. closed) polygons; `incomplete` is a list of list of (long, lat) \n",
    "            coords describing \"incomplete polygons\" (i.e. LineString)\n",
    "    \"\"\"\n",
    "    w = set(ways)\n",
    "    polys = []\n",
    "    incomplete = []\n",
    "    current = None\n",
    "    while True:\n",
    "        if not current:\n",
    "            if len(w) > 0:\n",
    "                current = w.pop().nodes\n",
    "            else:\n",
    "                break\n",
    "        if current[0].id == current[-1].id:\n",
    "            polys.append(current)\n",
    "            current = None\n",
    "            continue\n",
    "        else:\n",
    "            if len(w) < 1:\n",
    "                incomplete.append(current)\n",
    "                break\n",
    "            to_remove = set()\n",
    "            for n in w:\n",
    "                if n.nodes[0].id == current[-1].id:\n",
    "                    current += n.nodes\n",
    "                elif n.nodes[0].id == current[0].id:\n",
    "                    current = list(reversed(n.nodes)) + current\n",
    "                elif n.nodes[-1].id == current[0].id:\n",
    "                    current = n.nodes + current\n",
    "                elif n.nodes[-1].id == current[-1].id:\n",
    "                    current += list(reversed(n.nodes))\n",
    "                else:\n",
    "                    continue\n",
    "                to_remove.add(n)\n",
    "            if len(to_remove) == 0:\n",
    "                incomplete.append(current)\n",
    "                current = None\n",
    "                continue\n",
    "            w -= to_remove\n",
    "\n",
    "    return polys, incomplete\n",
    "\n",
    "\n",
    "if __name__ == \"__main__\":\n",
    "\n",
    "    queries = dict()\n",
    "    queries['cph'] = '''\n",
    "        (rel[boundary=\"administrative\"][\"name:en\"=\"Copenhagen Municipality\"][admin_level=\"7\"];>;);way(r);(._;>;);out;\n",
    "    '''\n",
    "    queries['frb'] = '''\n",
    "        (rel[boundary=\"administrative\"][\"name:en\"=\"Frederiksberg Municipality\"][admin_level=\"7\"];>;);way(r);(._;>;);out;\n",
    "    '''\n",
    "\n",
    "    # Use overpass to get boundary data (ways) from OSM\n",
    "    api = overpy.Overpass()\n",
    "    ways = defaultdict(list)\n",
    "    for c in queries:\n",
    "        print('Getting data for {}'.format(c))\n",
    "        ways[c] = api.query(queries[c])\n",
    "        print('next')\n",
    "    print('done')\n",
    "\n",
    "    # build polygons from the collected data\n",
    "    boundaries = defaultdict(list)\n",
    "    for k in ways:\n",
    "        polys, incmp = ways2poly(ways[k].get_ways())\n",
    "        boundaries[k] = {'polygons': polys, 'incomplete': incmp}\n",
    "\n",
    "        if len(polys) > 0 and len(incmp) == 0:\n",
    "            outcome = 'OK'\n",
    "        else:\n",
    "            outcome = 'ERROR'\n",
    "\n",
    "        print(\"{}: {:>2} polygons, {:>2} incomplete ({})\".format(\n",
    "            k, len(polys), len(incmp), outcome))\n",
    "\n",
    "        # I only care about complete polygons, but you could process incomplete\n",
    "        # ones as (Multi)LineString if needed\n",
    "        if outcome == 'OK':\n",
    "            boundaries[k]['shape'] = MultiPolygon(\n",
    "                [Polygon([(n.lon, n.lat) for n in p]) for p in polys])\n",
    "\n",
    "    # create GeoDataFrame with the boundaries\n",
    "    gdf_osm = gpd.GeoDataFrame(\n",
    "        pd.DataFrame(\n",
    "            [(k, boundaries[k]['shape']) for k in boundaries\n",
    "             if 'shape' in boundaries[k].keys()],\n",
    "            columns=['cc', 'boundary']),\n",
    "        geometry='boundary')\n",
    "\n",
    "    # Save a shapefile\n",
    "    gdf_osm.to_file(\"missing_boundaries.shp\")"
   ]
  },
  {
   "cell_type": "code",
   "execution_count": 24,
   "metadata": {},
   "outputs": [
    {
     "data": {
      "image/png": "[encoded data removed]",
      "text/plain": [
       "<Figure size 432x288 with 1 Axes>"
      ]
     },
     "metadata": {
      "needs_background": "light"
     },
     "output_type": "display_data"
    }
   ],
   "source": [
    "gdf_osm.set_crs(epsg=4326, inplace=True, allow_override=True)\n",
    "gdf_osm.to_crs(epsg=25832, inplace=True) \n",
    "gdf_osm.plot();"
   ]
  },
  {
   "cell_type": "code",
   "execution_count": 25,
   "metadata": {},
   "outputs": [
    {
     "ename": "KeyError",
     "evalue": "'longitude'",
     "output_type": "error",
     "traceback": [
      "\u001b[1;31m---------------------------------------------------------------------------\u001b[0m",
      "\u001b[1;31mKeyError\u001b[0m                                  Traceback (most recent call last)",
      "File \u001b[1;32mc:\\Users\\Kerem\\anaconda3\\envs\\isds\\lib\\site-packages\\pandas\\core\\indexes\\base.py:3081\u001b[0m, in \u001b[0;36mIndex.get_loc\u001b[1;34m(self, key, method, tolerance)\u001b[0m\n\u001b[0;32m   3080\u001b[0m \u001b[39mtry\u001b[39;00m:\n\u001b[1;32m-> 3081\u001b[0m     \u001b[39mreturn\u001b[39;00m \u001b[39mself\u001b[39;49m\u001b[39m.\u001b[39;49m_engine\u001b[39m.\u001b[39;49mget_loc(casted_key)\n\u001b[0;32m   3082\u001b[0m \u001b[39mexcept\u001b[39;00m \u001b[39mKeyError\u001b[39;00m \u001b[39mas\u001b[39;00m err:\n",
      "File \u001b[1;32mpandas\\_libs\\index.pyx:70\u001b[0m, in \u001b[0;36mpandas._libs.index.IndexEngine.get_loc\u001b[1;34m()\u001b[0m\n",
      "File \u001b[1;32mpandas\\_libs\\index.pyx:101\u001b[0m, in \u001b[0;36mpandas._libs.index.IndexEngine.get_loc\u001b[1;34m()\u001b[0m\n",
      "File \u001b[1;32mpandas\\_libs\\hashtable_class_helper.pxi:4554\u001b[0m, in \u001b[0;36mpandas._libs.hashtable.PyObjectHashTable.get_item\u001b[1;34m()\u001b[0m\n",
      "File \u001b[1;32mpandas\\_libs\\hashtable_class_helper.pxi:4562\u001b[0m, in \u001b[0;36mpandas._libs.hashtable.PyObjectHashTable.get_item\u001b[1;34m()\u001b[0m\n",
      "\u001b[1;31mKeyError\u001b[0m: 'longitude'",
      "\nThe above exception was the direct cause of the following exception:\n",
      "\u001b[1;31mKeyError\u001b[0m                                  Traceback (most recent call last)",
      "\u001b[1;32mc:\\Users\\Kerem\\OneDrive - University of Copenhagen\\ISDS_G9\\data_analysis+schools-scatter.ipynb Cell 33\u001b[0m in \u001b[0;36m<cell line: 2>\u001b[1;34m()\u001b[0m\n\u001b[0;32m      <a href='vscode-notebook-cell:/c%3A/Users/Kerem/OneDrive%20-%20University%20of%20Copenhagen/ISDS_G9/data_analysis%2Bschools-scatter.ipynb#X43sZmlsZQ%3D%3D?line=0'>1</a>\u001b[0m \u001b[39m# Create geopandas dataframe with shapely points for each housing location\u001b[39;00m\n\u001b[1;32m----> <a href='vscode-notebook-cell:/c%3A/Users/Kerem/OneDrive%20-%20University%20of%20Copenhagen/ISDS_G9/data_analysis%2Bschools-scatter.ipynb#X43sZmlsZQ%3D%3D?line=1'>2</a>\u001b[0m points \u001b[39m=\u001b[39m houses\u001b[39m.\u001b[39;49mapply(\u001b[39mlambda\u001b[39;49;00m row: Point(row[\u001b[39m'\u001b[39;49m\u001b[39mlongitude\u001b[39;49m\u001b[39m'\u001b[39;49m], row[\u001b[39m'\u001b[39;49m\u001b[39mlatitude\u001b[39;49m\u001b[39m'\u001b[39;49m]), axis \u001b[39m=\u001b[39;49m \u001b[39m1\u001b[39;49m) \u001b[39m# create housing points\u001b[39;00m\n\u001b[0;32m      <a href='vscode-notebook-cell:/c%3A/Users/Kerem/OneDrive%20-%20University%20of%20Copenhagen/ISDS_G9/data_analysis%2Bschools-scatter.ipynb#X43sZmlsZQ%3D%3D?line=2'>3</a>\u001b[0m geo_houses \u001b[39m=\u001b[39m gpd\u001b[39m.\u001b[39mGeoDataFrame(houses, geometry \u001b[39m=\u001b[39m points, crs \u001b[39m=\u001b[39m \u001b[39m'\u001b[39m\u001b[39mEPSG:4326\u001b[39m\u001b[39m'\u001b[39m) \n\u001b[0;32m      <a href='vscode-notebook-cell:/c%3A/Users/Kerem/OneDrive%20-%20University%20of%20Copenhagen/ISDS_G9/data_analysis%2Bschools-scatter.ipynb#X43sZmlsZQ%3D%3D?line=3'>4</a>\u001b[0m geo_houses\u001b[39m.\u001b[39mto_crs(epsg\u001b[39m=\u001b[39m\u001b[39m25832\u001b[39m, inplace\u001b[39m=\u001b[39m\u001b[39mTrue\u001b[39;00m) \u001b[39m# this epsg code uses meters as unit measure\u001b[39;00m\n",
      "File \u001b[1;32mc:\\Users\\Kerem\\anaconda3\\envs\\isds\\lib\\site-packages\\pandas\\core\\frame.py:7768\u001b[0m, in \u001b[0;36mDataFrame.apply\u001b[1;34m(self, func, axis, raw, result_type, args, **kwds)\u001b[0m\n\u001b[0;32m   7757\u001b[0m \u001b[39mfrom\u001b[39;00m \u001b[39mpandas\u001b[39;00m\u001b[39m.\u001b[39;00m\u001b[39mcore\u001b[39;00m\u001b[39m.\u001b[39;00m\u001b[39mapply\u001b[39;00m \u001b[39mimport\u001b[39;00m frame_apply\n\u001b[0;32m   7759\u001b[0m op \u001b[39m=\u001b[39m frame_apply(\n\u001b[0;32m   7760\u001b[0m     \u001b[39mself\u001b[39m,\n\u001b[0;32m   7761\u001b[0m     func\u001b[39m=\u001b[39mfunc,\n\u001b[1;32m   (...)\u001b[0m\n\u001b[0;32m   7766\u001b[0m     kwds\u001b[39m=\u001b[39mkwds,\n\u001b[0;32m   7767\u001b[0m )\n\u001b[1;32m-> 7768\u001b[0m \u001b[39mreturn\u001b[39;00m op\u001b[39m.\u001b[39;49mget_result()\n",
      "File \u001b[1;32mc:\\Users\\Kerem\\anaconda3\\envs\\isds\\lib\\site-packages\\pandas\\core\\apply.py:185\u001b[0m, in \u001b[0;36mFrameApply.get_result\u001b[1;34m(self)\u001b[0m\n\u001b[0;32m    182\u001b[0m \u001b[39melif\u001b[39;00m \u001b[39mself\u001b[39m\u001b[39m.\u001b[39mraw:\n\u001b[0;32m    183\u001b[0m     \u001b[39mreturn\u001b[39;00m \u001b[39mself\u001b[39m\u001b[39m.\u001b[39mapply_raw()\n\u001b[1;32m--> 185\u001b[0m \u001b[39mreturn\u001b[39;00m \u001b[39mself\u001b[39;49m\u001b[39m.\u001b[39;49mapply_standard()\n",
      "File \u001b[1;32mc:\\Users\\Kerem\\anaconda3\\envs\\isds\\lib\\site-packages\\pandas\\core\\apply.py:276\u001b[0m, in \u001b[0;36mFrameApply.apply_standard\u001b[1;34m(self)\u001b[0m\n\u001b[0;32m    275\u001b[0m \u001b[39mdef\u001b[39;00m \u001b[39mapply_standard\u001b[39m(\u001b[39mself\u001b[39m):\n\u001b[1;32m--> 276\u001b[0m     results, res_index \u001b[39m=\u001b[39m \u001b[39mself\u001b[39;49m\u001b[39m.\u001b[39;49mapply_series_generator()\n\u001b[0;32m    278\u001b[0m     \u001b[39m# wrap results\u001b[39;00m\n\u001b[0;32m    279\u001b[0m     \u001b[39mreturn\u001b[39;00m \u001b[39mself\u001b[39m\u001b[39m.\u001b[39mwrap_results(results, res_index)\n",
      "File \u001b[1;32mc:\\Users\\Kerem\\anaconda3\\envs\\isds\\lib\\site-packages\\pandas\\core\\apply.py:290\u001b[0m, in \u001b[0;36mFrameApply.apply_series_generator\u001b[1;34m(self)\u001b[0m\n\u001b[0;32m    287\u001b[0m \u001b[39mwith\u001b[39;00m option_context(\u001b[39m\"\u001b[39m\u001b[39mmode.chained_assignment\u001b[39m\u001b[39m\"\u001b[39m, \u001b[39mNone\u001b[39;00m):\n\u001b[0;32m    288\u001b[0m     \u001b[39mfor\u001b[39;00m i, v \u001b[39min\u001b[39;00m \u001b[39menumerate\u001b[39m(series_gen):\n\u001b[0;32m    289\u001b[0m         \u001b[39m# ignore SettingWithCopy here in case the user mutates\u001b[39;00m\n\u001b[1;32m--> 290\u001b[0m         results[i] \u001b[39m=\u001b[39m \u001b[39mself\u001b[39;49m\u001b[39m.\u001b[39;49mf(v)\n\u001b[0;32m    291\u001b[0m         \u001b[39mif\u001b[39;00m \u001b[39misinstance\u001b[39m(results[i], ABCSeries):\n\u001b[0;32m    292\u001b[0m             \u001b[39m# If we have a view on v, we need to make a copy because\u001b[39;00m\n\u001b[0;32m    293\u001b[0m             \u001b[39m#  series_generator will swap out the underlying data\u001b[39;00m\n\u001b[0;32m    294\u001b[0m             results[i] \u001b[39m=\u001b[39m results[i]\u001b[39m.\u001b[39mcopy(deep\u001b[39m=\u001b[39m\u001b[39mFalse\u001b[39;00m)\n",
      "\u001b[1;32mc:\\Users\\Kerem\\OneDrive - University of Copenhagen\\ISDS_G9\\data_analysis+schools-scatter.ipynb Cell 33\u001b[0m in \u001b[0;36m<lambda>\u001b[1;34m(row)\u001b[0m\n\u001b[0;32m      <a href='vscode-notebook-cell:/c%3A/Users/Kerem/OneDrive%20-%20University%20of%20Copenhagen/ISDS_G9/data_analysis%2Bschools-scatter.ipynb#X43sZmlsZQ%3D%3D?line=0'>1</a>\u001b[0m \u001b[39m# Create geopandas dataframe with shapely points for each housing location\u001b[39;00m\n\u001b[1;32m----> <a href='vscode-notebook-cell:/c%3A/Users/Kerem/OneDrive%20-%20University%20of%20Copenhagen/ISDS_G9/data_analysis%2Bschools-scatter.ipynb#X43sZmlsZQ%3D%3D?line=1'>2</a>\u001b[0m points \u001b[39m=\u001b[39m houses\u001b[39m.\u001b[39mapply(\u001b[39mlambda\u001b[39;00m row: Point(row[\u001b[39m'\u001b[39;49m\u001b[39mlongitude\u001b[39;49m\u001b[39m'\u001b[39;49m], row[\u001b[39m'\u001b[39m\u001b[39mlatitude\u001b[39m\u001b[39m'\u001b[39m]), axis \u001b[39m=\u001b[39m \u001b[39m1\u001b[39m) \u001b[39m# create housing points\u001b[39;00m\n\u001b[0;32m      <a href='vscode-notebook-cell:/c%3A/Users/Kerem/OneDrive%20-%20University%20of%20Copenhagen/ISDS_G9/data_analysis%2Bschools-scatter.ipynb#X43sZmlsZQ%3D%3D?line=2'>3</a>\u001b[0m geo_houses \u001b[39m=\u001b[39m gpd\u001b[39m.\u001b[39mGeoDataFrame(houses, geometry \u001b[39m=\u001b[39m points, crs \u001b[39m=\u001b[39m \u001b[39m'\u001b[39m\u001b[39mEPSG:4326\u001b[39m\u001b[39m'\u001b[39m) \n\u001b[0;32m      <a href='vscode-notebook-cell:/c%3A/Users/Kerem/OneDrive%20-%20University%20of%20Copenhagen/ISDS_G9/data_analysis%2Bschools-scatter.ipynb#X43sZmlsZQ%3D%3D?line=3'>4</a>\u001b[0m geo_houses\u001b[39m.\u001b[39mto_crs(epsg\u001b[39m=\u001b[39m\u001b[39m25832\u001b[39m, inplace\u001b[39m=\u001b[39m\u001b[39mTrue\u001b[39;00m) \u001b[39m# this epsg code uses meters as unit measure\u001b[39;00m\n",
      "File \u001b[1;32mc:\\Users\\Kerem\\anaconda3\\envs\\isds\\lib\\site-packages\\pandas\\core\\series.py:853\u001b[0m, in \u001b[0;36mSeries.__getitem__\u001b[1;34m(self, key)\u001b[0m\n\u001b[0;32m    850\u001b[0m     \u001b[39mreturn\u001b[39;00m \u001b[39mself\u001b[39m\u001b[39m.\u001b[39m_values[key]\n\u001b[0;32m    852\u001b[0m \u001b[39melif\u001b[39;00m key_is_scalar:\n\u001b[1;32m--> 853\u001b[0m     \u001b[39mreturn\u001b[39;00m \u001b[39mself\u001b[39;49m\u001b[39m.\u001b[39;49m_get_value(key)\n\u001b[0;32m    855\u001b[0m \u001b[39mif\u001b[39;00m is_hashable(key):\n\u001b[0;32m    856\u001b[0m     \u001b[39m# Otherwise index.get_value will raise InvalidIndexError\u001b[39;00m\n\u001b[0;32m    857\u001b[0m     \u001b[39mtry\u001b[39;00m:\n\u001b[0;32m    858\u001b[0m         \u001b[39m# For labels that don't resolve as scalars like tuples and frozensets\u001b[39;00m\n",
      "File \u001b[1;32mc:\\Users\\Kerem\\anaconda3\\envs\\isds\\lib\\site-packages\\pandas\\core\\series.py:961\u001b[0m, in \u001b[0;36mSeries._get_value\u001b[1;34m(self, label, takeable)\u001b[0m\n\u001b[0;32m    958\u001b[0m     \u001b[39mreturn\u001b[39;00m \u001b[39mself\u001b[39m\u001b[39m.\u001b[39m_values[label]\n\u001b[0;32m    960\u001b[0m \u001b[39m# Similar to Index.get_value, but we do not fall back to positional\u001b[39;00m\n\u001b[1;32m--> 961\u001b[0m loc \u001b[39m=\u001b[39m \u001b[39mself\u001b[39;49m\u001b[39m.\u001b[39;49mindex\u001b[39m.\u001b[39;49mget_loc(label)\n\u001b[0;32m    962\u001b[0m \u001b[39mreturn\u001b[39;00m \u001b[39mself\u001b[39m\u001b[39m.\u001b[39mindex\u001b[39m.\u001b[39m_get_values_for_loc(\u001b[39mself\u001b[39m, loc, label)\n",
      "File \u001b[1;32mc:\\Users\\Kerem\\anaconda3\\envs\\isds\\lib\\site-packages\\pandas\\core\\indexes\\base.py:3083\u001b[0m, in \u001b[0;36mIndex.get_loc\u001b[1;34m(self, key, method, tolerance)\u001b[0m\n\u001b[0;32m   3081\u001b[0m         \u001b[39mreturn\u001b[39;00m \u001b[39mself\u001b[39m\u001b[39m.\u001b[39m_engine\u001b[39m.\u001b[39mget_loc(casted_key)\n\u001b[0;32m   3082\u001b[0m     \u001b[39mexcept\u001b[39;00m \u001b[39mKeyError\u001b[39;00m \u001b[39mas\u001b[39;00m err:\n\u001b[1;32m-> 3083\u001b[0m         \u001b[39mraise\u001b[39;00m \u001b[39mKeyError\u001b[39;00m(key) \u001b[39mfrom\u001b[39;00m \u001b[39merr\u001b[39;00m\n\u001b[0;32m   3085\u001b[0m \u001b[39mif\u001b[39;00m tolerance \u001b[39mis\u001b[39;00m \u001b[39mnot\u001b[39;00m \u001b[39mNone\u001b[39;00m:\n\u001b[0;32m   3086\u001b[0m     tolerance \u001b[39m=\u001b[39m \u001b[39mself\u001b[39m\u001b[39m.\u001b[39m_convert_tolerance(tolerance, np\u001b[39m.\u001b[39masarray(key))\n",
      "\u001b[1;31mKeyError\u001b[0m: 'longitude'"
     ]
    }
   ],
   "source": [
    "# Create geopandas dataframe with shapely points for each housing location\n",
    "points = houses.apply(lambda row: Point(row['longitude'], row['latitude']), axis = 1) # create housing points\n",
    "geo_houses = gpd.GeoDataFrame(houses, geometry = points, crs = 'EPSG:4326') \n",
    "geo_houses.to_crs(epsg=25832, inplace=True) # this epsg code uses meters as unit measure\n",
    "\n",
    "fig, ax = plt.subplots(figsize=(20, 15))\n",
    "\n",
    "# Copenhagen Area base plot\n",
    "gdf_osm.plot(color='#d7d7d7',edgecolor='black', ax=ax, label = \"Copenhagen Area\")\n",
    "\n",
    "# plot houseprices\n",
    "geo_houses.plot(ax=ax, color = \"blue\", markersize=2,  label = \"Sold apartments\")\n",
    "\n",
    "# narrow xlim\n",
    "ax.set_xlim([716000, 730000]) # based on north eastern epsg: 25832\n",
    "ax.set_axis_off()\n",
    "ax.set_title(f'Apartments sold in Copenhagen and Frederiksberg municipality {year_from}-{date.today()}', fontsize=22)\n",
    "\n",
    "# handle legend \n",
    "lgnd = fig.legend(loc=7, ncol=1, fontsize = 15)    \n",
    "lgnd.legendHandles[0]._sizes = [40]\n",
    "\n",
    "\n",
    "fig.subplots_adjust(right=0.95) "
   ]
  },
  {
   "cell_type": "markdown",
   "metadata": {},
   "source": [
    "# Load Spatial Attributes"
   ]
  },
  {
   "cell_type": "markdown",
   "metadata": {},
   "source": [
    "## 1) Charging Stations (EV)\n",
    "One of the chosen spatial attributes is charging stations for electric vehicles. We import data from opendata.com on charging stations in the municpality of Copenhagen and Frederiksberg, respectively."
   ]
  },
  {
   "cell_type": "markdown",
   "metadata": {},
   "source": [
    "### Charging Stations Frederiksberg"
   ]
  },
  {
   "cell_type": "markdown",
   "metadata": {},
   "source": [
    "Due to continous update of the id on the [charging station data]( https://www.opendata.dk/city-of-frederiksberg/elbil-ladestandere) provided by municipality of Frederiksberg we have downloaded the GeoJson file and uploaded it to a public github repository from which we fetch the data."
   ]
  },
  {
   "cell_type": "code",
   "execution_count": null,
   "metadata": {},
   "outputs": [],
   "source": [
    "url = 'https://raw.githubusercontent.com/HansChristianPOLIT/geojson_isds2022/main/charging_stations_frederiksberg.geojson'\n",
    "charging_stations_frb = gpd.read_file(url)\n",
    "\n",
    "# Inspect data\n",
    "charging_stations_frb.head() "
   ]
  },
  {
   "cell_type": "markdown",
   "metadata": {},
   "source": [
    "Clean data and keep relevant information:"
   ]
  },
  {
   "cell_type": "code",
   "execution_count": null,
   "metadata": {},
   "outputs": [],
   "source": [
    "charging_stations_frb.rename(columns = {'gid':'id', 'adgangsadresse':'address'}, inplace = True) # rename relevant columns to english\n",
    "charging_stations_frb = charging_stations_frb[['id', 'address','geometry']] # keep only relevant columns\n",
    "charging_stations_frb.head()"
   ]
  },
  {
   "cell_type": "markdown",
   "metadata": {},
   "source": [
    "### Charging Stations Municipality of Copenhagen"
   ]
  },
  {
   "cell_type": "markdown",
   "metadata": {},
   "source": [
    "We use [data](https://www.opendata.dk/city-of-copenhagen/ladestandere-elbil) from opendata.dk provided by Municipality of Copenhagen."
   ]
  },
  {
   "cell_type": "code",
   "execution_count": null,
   "metadata": {},
   "outputs": [],
   "source": [
    "url = 'https://wfs-kbhkort.kk.dk/k101/ows?service=WFS&version=1.0.0&request=GetFeature&typeName=k101:elbil_ladestander_i_drift&outputFormat=application%2Fjson&srsname=epsg:4326'\n",
    "charging_stations_cph = gpd.read_file(url)\n",
    "\n",
    "charging_stations_cph.head() # Inspect data"
   ]
  },
  {
   "cell_type": "code",
   "execution_count": null,
   "metadata": {},
   "outputs": [],
   "source": [
    "charging_stations_cph.rename(columns={'vejnavn':'address'}, inplace=True) # rename relevant columns to english\n",
    "charging_stations_cph = charging_stations_cph[['id', 'address','geometry']]\n",
    "#charging_stations_cph"
   ]
  },
  {
   "cell_type": "markdown",
   "metadata": {},
   "source": [
    "### Concatenate\n",
    "We merge the data to create dataFrame of the total EV charging stations in the Copenhagen Area. "
   ]
  },
  {
   "cell_type": "code",
   "execution_count": null,
   "metadata": {},
   "outputs": [],
   "source": [
    "combine_dfs = [charging_stations_cph, charging_stations_frb]\n",
    "charging_stations_total = pd.concat(combine_dfs)\n",
    "charging_stations_total.reset_index(inplace=True, drop=True) # <-- reset index\n",
    "\n",
    "charging_stations_total # view merged data"
   ]
  },
  {
   "cell_type": "markdown",
   "metadata": {},
   "source": [
    "### Extract lattitude and longitude of geometry column"
   ]
  },
  {
   "cell_type": "markdown",
   "metadata": {},
   "source": [
    "To extract lattitude and longitude we will use `regex`, therefore we import the following package:"
   ]
  },
  {
   "cell_type": "code",
   "execution_count": null,
   "metadata": {},
   "outputs": [],
   "source": [
    "# Import package\n",
    "import re"
   ]
  },
  {
   "cell_type": "code",
   "execution_count": null,
   "metadata": {},
   "outputs": [],
   "source": [
    "charging_stations_total['geometry_str'] = charging_stations_total['geometry'].astype(str) # convert to str to leverage `re`\n",
    "charging_stations_total"
   ]
  },
  {
   "cell_type": "markdown",
   "metadata": {},
   "source": [
    "Thereafter, we find the pattern and create a function to extract the 2 regex *groups* from the geometry_str column:"
   ]
  },
  {
   "cell_type": "code",
   "execution_count": null,
   "metadata": {},
   "outputs": [],
   "source": [
    "# define reg pattern\n",
    "lat_lng_pattern = re.compile(r\"\\((.*) \\s*(.*)\\)\")\n",
    "\n",
    "# define function for extraction \n",
    "def extract_lng_lat(address):\n",
    "    \"\"\" Takes coordinates as input and search for the longitude and lattitude using regular expression.\n",
    "\n",
    "        Parameter\n",
    "        ----------\n",
    "        arg : coordinates \n",
    "\n",
    "        Returns\n",
    "        -------\n",
    "        tuple of longitude and lattitude\n",
    "    \"\"\"\n",
    "    try: \n",
    "        lng_lat_match = lat_lng_pattern.search(address)\n",
    "        lng = float(lng_lat_match.group(1))\n",
    "        lat = float(lng_lat_match.group(2))\n",
    "        return (lng,lat)\n",
    "    except:\n",
    "        return (np.NaN, np.NaN)"
   ]
  },
  {
   "cell_type": "markdown",
   "metadata": {},
   "source": [
    "Apply the regular expression function on the dataFrame:"
   ]
  },
  {
   "cell_type": "code",
   "execution_count": null,
   "metadata": {},
   "outputs": [],
   "source": [
    "lng_lats = [extract_lng_lat(location) for location in charging_stations_total.loc[:,'geometry_str']]\n",
    "charging_stations_total['lng'] = [lat for lat, lng in lng_lats]\n",
    "charging_stations_total['lat'] =  [lng for lat, lng in lng_lats]\n",
    "\n",
    "charging_stations_total = charging_stations_total.drop('geometry_str', axis=1) # drop irrelevant column\n",
    "charging_stations_total.head() # Inspect result"
   ]
  },
  {
   "cell_type": "markdown",
   "metadata": {},
   "source": [
    "## 2) Metrostations"
   ]
  },
  {
   "cell_type": "markdown",
   "metadata": {},
   "source": [
    "We use [data](https://www.opendata.dk/city-of-copenhagen/oversigtskort) on metrostations from opendata.dk provided by Municipality of Copenhagen."
   ]
  },
  {
   "cell_type": "code",
   "execution_count": null,
   "metadata": {},
   "outputs": [],
   "source": [
    "url = 'https://wfs-kbhkort.kk.dk/k101/ows?service=WFS&version=1.0.0&request=GetFeature&typeName=k101:station_oversigtskort&outputFormat=json&SRSNAME=EPSG:4326' \n",
    "stations = gpd.read_file(url)\n",
    "\n",
    "#stations.head(60) # Inspect data"
   ]
  },
  {
   "cell_type": "code",
   "execution_count": null,
   "metadata": {},
   "outputs": [],
   "source": [
    "# Fetch only metrostations\n",
    "metrostations = stations.loc[(stations['objekt_type'] == 'Metrostation')]\n",
    "\n",
    "# Remove the station in Municpality of Tårnby\n",
    "metrostations = metrostations[metrostations.kommune != 'Tårnby']\n",
    "\n",
    "metrostations.rename(columns = {'navn':'address','kommune':'municipality'}, inplace = True)\n",
    "metrostations.reset_index(drop=True,inplace=True)\n",
    "metrostations['geometry_str'] = metrostations['geometry'].astype(str) # create new str column for regular expression\n",
    "metrostations.head() # <-- inspect data"
   ]
  },
  {
   "cell_type": "markdown",
   "metadata": {},
   "source": [
    "Apply the regular expression function on the metrostations dataFrame:"
   ]
  },
  {
   "cell_type": "code",
   "execution_count": null,
   "metadata": {},
   "outputs": [],
   "source": [
    "lng_lats = [extract_lng_lat(location) for location in metrostations.loc[:,'geometry_str']]\n",
    "metrostations['lng'] = [lat for lat, lng in lng_lats]\n",
    "metrostations['lat'] =  [lng for lat, lng in lng_lats]\n",
    "\n",
    "metrostations = metrostations.drop('geometry_str', axis=1) # drop irrelevant column\n",
    "metrostations.head() # Inspect result"
   ]
  },
  {
   "cell_type": "markdown",
   "metadata": {},
   "source": [
    "## 3) Restaurants\n",
    "In order to select custom features from the OpenStreetMap we use the [Overpass API](https://wiki.openstreetmap.org/wiki/Overpass_API). To query Overpass API in Python we use the wrapper [overpy](https://github.com/DinoTools/python-overpy)."
   ]
  },
  {
   "cell_type": "code",
   "execution_count": null,
   "metadata": {},
   "outputs": [],
   "source": [
    "api = overpy.Overpass()"
   ]
  },
  {
   "cell_type": "markdown",
   "metadata": {},
   "source": [
    "### Restaurants in the Municipality of Frederiksberg"
   ]
  },
  {
   "cell_type": "markdown",
   "metadata": {},
   "source": [
    "Fetch restaurants in Frederiksberg from OpenStreetMaps:"
   ]
  },
  {
   "cell_type": "code",
   "execution_count": null,
   "metadata": {},
   "outputs": [],
   "source": [
    "query_result = api.query(\"\"\"\n",
    "area[\"wikidata\" = \"Q2488464\"]->.place;   \n",
    "node[\"amenity\"=\"restaurant\"](area.place);\n",
    "out body;\n",
    "\"\"\") # Q2488464 defines borders of Frederiksberg in OpenStreetMap (OSM)"
   ]
  },
  {
   "cell_type": "markdown",
   "metadata": {},
   "source": [
    "We convert nodes from OSM into GeoDataFrame:"
   ]
  },
  {
   "cell_type": "code",
   "execution_count": null,
   "metadata": {},
   "outputs": [],
   "source": [
    "# We need to turn lng & lat into shapely points on globe\n",
    "points_array = [ Point(x.lon, x.lat) for x in query_result.nodes]\n",
    "points_series = gpd.GeoSeries(points_array)\n",
    "\n",
    "restaurant_array = [ { \n",
    "    \"name\": x.tags.get(\"name\", \"\")\n",
    "} for x in query_result.nodes]\n",
    "\n",
    "restaurants_frb = gpd.GeoDataFrame(restaurant_array, geometry=points_series, crs=4326) # save as gdf\n",
    "restaurants_frb # inspect result "
   ]
  },
  {
   "cell_type": "markdown",
   "metadata": {},
   "source": [
    "### Restaurants in the Municipality of Copenhagen"
   ]
  },
  {
   "cell_type": "code",
   "execution_count": null,
   "metadata": {},
   "outputs": [],
   "source": [
    "query_result = api.query(\"\"\"\n",
    "area[\"wikidata\" = \"Q504125\"]->.place;   \n",
    "node[\"amenity\"=\"restaurant\"](area.place);\n",
    "out body;\n",
    "\"\"\") # Q504125 defines borders of Municipality of Copenhagen in OpenStreetMap (OSM)"
   ]
  },
  {
   "cell_type": "code",
   "execution_count": null,
   "metadata": {},
   "outputs": [],
   "source": [
    "points_array = [ Point(x.lon, x.lat) for x in query_result.nodes]\n",
    "points_series = gpd.GeoSeries(points_array)\n",
    "\n",
    "restaurant_array = [ { \n",
    "    \"name\": x.tags.get(\"name\", \"\")\n",
    "} for x in query_result.nodes]\n",
    "\n",
    "restaurants_cph = gpd.GeoDataFrame(restaurant_array, geometry=points_series, crs=4326)\n",
    "restaurants_cph # inspect result "
   ]
  },
  {
   "cell_type": "markdown",
   "metadata": {},
   "source": [
    "#### Concatenate Restaurant Data"
   ]
  },
  {
   "cell_type": "code",
   "execution_count": null,
   "metadata": {},
   "outputs": [],
   "source": [
    "combine_restaurants = [restaurants_cph, restaurants_frb]\n",
    "restaurants_total = pd.concat(combine_restaurants)\n",
    "restaurants_total.reset_index(inplace=True, drop=True) # <-- reset index\n",
    "restaurants_total['geometry_str'] = restaurants_total['geometry'].astype(str)\n",
    "#restaurants_total # inspect data"
   ]
  },
  {
   "cell_type": "markdown",
   "metadata": {},
   "source": [
    "Apply regular expression function to extract longitude and lattiude:"
   ]
  },
  {
   "cell_type": "code",
   "execution_count": null,
   "metadata": {},
   "outputs": [],
   "source": [
    "lng_lats = [extract_lng_lat(location) for location in restaurants_total.loc[:,'geometry_str']]\n",
    "restaurants_total['lng'] = [lat for lat, lng in lng_lats]\n",
    "restaurants_total['lat'] =  [lng for lat, lng in lng_lats]\n",
    "restaurants_total = restaurants_total.drop('geometry_str', axis=1) # remove irrelevant column\n",
    "restaurants_total.head()"
   ]
  },
  {
   "cell_type": "markdown",
   "metadata": {},
   "source": [
    "## 4) Malls "
   ]
  },
  {
   "cell_type": "markdown",
   "metadata": {},
   "source": [
    "In the following we make a \"workaround\" to extract ways and relations from OSM via Overpass API:"
   ]
  },
  {
   "cell_type": "markdown",
   "metadata": {},
   "source": [
    "### Malls on Frederiksberg"
   ]
  },
  {
   "cell_type": "code",
   "execution_count": null,
   "metadata": {},
   "outputs": [],
   "source": [
    "response = requests.get('https://overpass-api.de/api/interpreter?data=[out:xml][timeout:25];(area[\"wikidata\"=\"Q2488464\"]->.place;node[\"shop\"=\"mall\"](area.place);way[\"shop\"=\"mall\"](area.place);relation[\"shop\"=\"mall\"](area.place););out geom;')\n",
    "\n",
    "string_frb = response.text.replace(\"\\n\",\"\")\n",
    "geojson_malls_frb = osm2geojson.xml2geojson(string_frb) # convert the XML to Geojson using osm2geojson\n",
    "\n",
    "malls_frb = gpd.GeoDataFrame.from_features(geojson_malls_frb[\"features\"])\n",
    "malls_frb = malls_frb.drop([0]) # <-- redundant node \n",
    "malls_frb.rename(columns = {'tags':'name'}, inplace = True)\n",
    "\n",
    "malls_frb['name'] = 'Frederiksberg Centret'\n",
    "malls_frb # view result"
   ]
  },
  {
   "cell_type": "markdown",
   "metadata": {},
   "source": [
    "Extract lattitude and longitude using an anonymous function:\n",
    "- note to calculate distances to a polygon we use the center coordinate as reference point, therefore, we apply the method *centroid*."
   ]
  },
  {
   "cell_type": "code",
   "execution_count": null,
   "metadata": {},
   "outputs": [],
   "source": [
    "# extract coordinates\n",
    "malls_frb[\"lng\"] = malls_frb.centroid.map(lambda p: p.x)\n",
    "malls_frb[\"lat\"] = malls_frb.centroid.map(lambda p: p.y)\n",
    "\n",
    "# convert latitude/longtitude columns to Geometry Column using Python using list comprehsion\n",
    "#malls_frb['geometry_center_point'] = [Point(xy) for xy in zip(malls_frb['lng'], malls_frb['lat'])]\n",
    "\n",
    "malls_frb.set_crs(epsg=4326, allow_override=True)\n",
    "malls_frb"
   ]
  },
  {
   "cell_type": "markdown",
   "metadata": {},
   "source": [
    "### Malls in Copenhagen"
   ]
  },
  {
   "cell_type": "code",
   "execution_count": null,
   "metadata": {},
   "outputs": [],
   "source": [
    "# make a request to overpass and return XML\n",
    "response = requests.get('https://overpass-api.de/api/interpreter?data=[out:xml][timeout:25];(area[\"wikidata\"=\"Q504125\"]->.place;node[\"shop\"=\"mall\"](area.place);way[\"shop\"=\"mall\"](area.place);relation[\"shop\"=\"mall\"](area.place););out geom;')\n",
    "\n",
    "string = response.text.replace(\"\\n\",\"\")\n",
    "geojson_malls_cph = osm2geojson.xml2geojson(string) # convert the XML to Geojson using osm2geojson\n",
    "\n",
    "malls_cph = gpd.GeoDataFrame.from_features(geojson_malls_cph[\"features\"])\n",
    "malls_cph = malls_cph.drop([6]) # <-- misplaced as mall on OSM\n",
    "malls_cph.rename(columns = {'tags':'name'}, inplace = True)\n",
    "\n",
    "newcol = ['Fisketorvet','Fields', 'Nørrebro Bycenter', 'Spinderiet', 'Amager Centret', 'Kronen Vanløse','Illum'] \n",
    "malls_cph['name'] = newcol\n",
    "malls_cph # inspect result"
   ]
  },
  {
   "cell_type": "code",
   "execution_count": null,
   "metadata": {},
   "outputs": [],
   "source": [
    "malls_cph[\"lng\"] = malls_cph.centroid.map(lambda p: p.x)\n",
    "malls_cph[\"lat\"] = malls_cph.centroid.map(lambda p: p.y)\n",
    "\n",
    "#malls_cph['geometry_center_point'] = [Point(xy) for xy in zip(malls_cph['lng'], malls_cph['lat'])]\n",
    "\n",
    "malls_cph.set_crs(epsg=4326, allow_override=True)\n",
    "malls_cph # view results"
   ]
  },
  {
   "cell_type": "markdown",
   "metadata": {},
   "source": [
    "### Concatenate"
   ]
  },
  {
   "cell_type": "code",
   "execution_count": null,
   "metadata": {},
   "outputs": [],
   "source": [
    "combine_malls = [malls_cph, malls_frb]\n",
    "malls_total = pd.concat(combine_malls)\n",
    "malls_total = malls_total.drop('type', axis=1) # drop irrelevant column\n",
    "malls_total = malls_total.drop('id', axis=1) # drop irrelevant column\n",
    "malls_total.reset_index(inplace=True, drop=True) # <-- reset index\n",
    "malls_total"
   ]
  },
  {
   "cell_type": "markdown",
   "metadata": {},
   "source": [
    "## 5) Parks\n",
    "- Again, we use a \"workaround\" to extract (multi)poylgon geometric data from OSM."
   ]
  },
  {
   "cell_type": "markdown",
   "metadata": {},
   "source": [
    "### Park Data on Frederiksberg"
   ]
  },
  {
   "cell_type": "code",
   "execution_count": null,
   "metadata": {},
   "outputs": [],
   "source": [
    "response = requests.get('https://overpass-api.de/api/interpreter?data=[out:xml][timeout:25];(area[\"wikidata\" = \"Q2488464\"]->.place;way[\"leisure\"=\"park\"](area.place););out geom;')\n",
    "\n",
    "string_frb = response.text.replace(\"\\n\",\"\")\n",
    "geojson_park_frb = osm2geojson.xml2geojson(string_frb)\n",
    "\n",
    "parks_frb = gpd.GeoDataFrame.from_features(geojson_park_frb[\"features\"])\n",
    "parks_frb.rename(columns = {'tags':'name'}, inplace = True)\n",
    "parks_frb # inspect result"
   ]
  },
  {
   "cell_type": "markdown",
   "metadata": {},
   "source": [
    "### Park Data on Copenhagen"
   ]
  },
  {
   "cell_type": "code",
   "execution_count": null,
   "metadata": {},
   "outputs": [],
   "source": [
    "response = requests.get('https://overpass-api.de/api/interpreter?data=[out:xml][timeout:25];(area[\"wikidata\" = \"Q504125\"]->.place;way[\"leisure\"=\"park\"](area.place););out geom;')\n",
    "\n",
    "string_cph = response.text.replace(\"\\n\",\"\")\n",
    "geojson_park_cph = osm2geojson.xml2geojson(string_cph)\n",
    "\n",
    "parks_cph = gpd.GeoDataFrame.from_features(geojson_park_cph[\"features\"])\n",
    "parks_cph.rename(columns = {'tags':'name'}, inplace = True)\n",
    "parks_cph # inspect result"
   ]
  },
  {
   "cell_type": "markdown",
   "metadata": {},
   "source": [
    "### Concatenate"
   ]
  },
  {
   "cell_type": "code",
   "execution_count": null,
   "metadata": {},
   "outputs": [],
   "source": [
    "\n",
    "combine_parks = [parks_frb, parks_cph]\n",
    "parks_total = pd.concat(combine_parks)\n",
    "parks_total.reset_index(inplace=True, drop=True) # reset index\n",
    "parks_total"
   ]
  },
  {
   "cell_type": "markdown",
   "metadata": {},
   "source": [
    "Because a lot of polygons in OSM is defined as parks, we choose to keep only parks that have a name tag:"
   ]
  },
  {
   "cell_type": "code",
   "execution_count": null,
   "metadata": {},
   "outputs": [],
   "source": [
    "name_parks = [d.get('name') for d in parks_total.name]\n",
    "parks_total['name'] = name_parks\n",
    "\n",
    "parks_total = parks_total[parks_total.name.notnull()] # remove parks with no name tag\n",
    "parks_total = parks_total[parks_total.name != 'Kastrup Strandpark'] # remove because not park of cph nor frb\n",
    "parks_total = parks_total[parks_total.name != 'Høje Gladsaxe Park'] # remove because not park of cph nor frb\n",
    "parks_total = parks_total.drop('type', axis=1) # drop irrelevant column\n",
    "parks_total = parks_total.drop('id', axis=1) # drop irrelevant column\n",
    "\n",
    "parks_total.reset_index(drop=True)"
   ]
  },
  {
   "cell_type": "markdown",
   "metadata": {},
   "source": [
    "### Extract Longitude and Lattitude of Parks"
   ]
  },
  {
   "cell_type": "code",
   "execution_count": null,
   "metadata": {},
   "outputs": [],
   "source": [
    "parks_total[\"lng\"] = parks_total.centroid.map(lambda p: p.x)\n",
    "parks_total[\"lat\"] = parks_total.centroid.map(lambda p: p.y)\n",
    "\n",
    "#parks_total['geometry_center_point'] = [Point(xy) for xy in zip(parks_total['lng'], parks_total['lat'])]\n",
    "parks_total"
   ]
  },
  {
   "cell_type": "markdown",
   "metadata": {},
   "source": [
    "## 6) Harbor Baths\n",
    "- The purpose of this automation tool is to extract addresses, lattitudes, and longitudes on \"harbor baths\" in Copehangen"
   ]
  },
  {
   "cell_type": "code",
   "execution_count": null,
   "metadata": {},
   "outputs": [],
   "source": [
    "# Import packages\n",
    "from selenium import webdriver\n",
    "from selenium.webdriver.common.keys import Keys\n",
    "from webdriver_manager.chrome import ChromeDriverManager\n",
    "from selenium.webdriver.common.by import By"
   ]
  },
  {
   "cell_type": "code",
   "execution_count": null,
   "metadata": {},
   "outputs": [],
   "source": [
    "url = 'https://www.visitcopenhagen.dk/koebenhavn/aktiviteter/havnebade-og-strande'\n",
    "driver = webdriver.Chrome(ChromeDriverManager().install())\n",
    "driver.implicitly_wait(40) #Waits maximum 100 seconds for an element to be found in the HTML.\n",
    "driver.get(url)\n",
    "\n",
    "# We need to click away the popup box with cookie information\n",
    "driver.find_element(By.CSS_SELECTOR, \".coi-banner__accept\").click()"
   ]
  },
  {
   "cell_type": "code",
   "execution_count": null,
   "metadata": {},
   "outputs": [],
   "source": [
    "index_list=[1,2,3,4,5,6,8,9,10,11,13]\n",
    "\n",
    "# Intialize lists\n",
    "places_list = []\n",
    "coordinates_list = []"
   ]
  },
  {
   "cell_type": "code",
   "execution_count": null,
   "metadata": {},
   "outputs": [],
   "source": [
    "for i in index_list:\n",
    "    # Locate Specific Information we are Scraping \n",
    "    driver.find_element(By.XPATH, f'//div[{i}]/div/div/div/div/div/div/a[@class=\"GuideItemUi__MoreInfo-im3577-9 goOBMS link-internal\"]').click()\n",
    "    places = driver.find_element(By.XPATH, '//h1[@class=\"Product__Title-sc-127atq4-13 iuYfEn\"]').text\n",
    "    places_list.append(places)\n",
    "\n",
    "    coord_btn = driver.find_element(By.XPATH, \"//button[contains(text(), 'Koordinater')]\").click()\n",
    "\n",
    "    coordinates = driver.find_element(By.XPATH, '//div[@class=\"Coordinates__Wrapper-pk556h-0 bdffic panel-info-wrap\"]').text\n",
    "    coordinates_list.append(coordinates)\n",
    "\n",
    "    #back to previous page with back()\n",
    "    driver.back()"
   ]
  },
  {
   "cell_type": "code",
   "execution_count": null,
   "metadata": {},
   "outputs": [],
   "source": [
    "# convert lists to a dictionary\n",
    "dict_harbor_baths = dict(zip(places_list, coordinates_list))\n",
    "print(dict_harbor_baths)"
   ]
  },
  {
   "cell_type": "markdown",
   "metadata": {},
   "source": [
    "### Data Cleaning"
   ]
  },
  {
   "cell_type": "code",
   "execution_count": null,
   "metadata": {},
   "outputs": [],
   "source": [
    "# convert dictionary to dataFrame\n",
    "harbor_baths = pd.DataFrame.from_dict(dict_harbor_baths, orient='index')\n",
    "harbor_baths.rename( columns={0 :'geometry'}, inplace=True )\n",
    "\n",
    "harbor_baths['address']=harbor_baths.index\n",
    "harbor_baths.reset_index(drop=True) "
   ]
  },
  {
   "cell_type": "markdown",
   "metadata": {},
   "source": [
    "Extract Lattitudes and Longitudes:"
   ]
  },
  {
   "cell_type": "code",
   "execution_count": null,
   "metadata": {},
   "outputs": [],
   "source": [
    "# define reg pattern\n",
    "lat_lng_pattern = re.compile(r\"((\\d{1,3},\\d{3}(,\\d{3})*)(\\.\\d*)?|\\d+\\.?\\d*)\")\n",
    "\n",
    "# redefine function for extraction \n",
    "def extract_lng_lat(address):\n",
    "    try: \n",
    "        lng_lat_match = lat_lng_pattern.search(address)\n",
    "        lng = float(lng_lat_match.group(0)) # <-- changed \n",
    "        lat = float(lng_lat_match.group(0))\n",
    "        return (lng,lat)\n",
    "    except:\n",
    "        return (np.NaN, np.NaN)"
   ]
  },
  {
   "cell_type": "code",
   "execution_count": null,
   "metadata": {},
   "outputs": [],
   "source": [
    "# create str column for extraction of lat and lng\n",
    "harbor_baths['geometry_str'] = harbor_baths['geometry'].astype(str) \n",
    "\n",
    "# apply function from earlier\n",
    "lng_lats = [extract_lng_lat(location) for location in harbor_baths.loc[:,'geometry_str']]\n",
    "harbor_baths['lng'] = [lat for lat, lng in lng_lats]\n",
    "\n",
    "#harbor_baths.head() "
   ]
  },
  {
   "cell_type": "code",
   "execution_count": null,
   "metadata": {},
   "outputs": [],
   "source": [
    "# reuse reg pattern\n",
    "lat_lng_pattern = re.compile(r\"[0-9]*\\.[0-9]+\")\n",
    "harbor_baths['geometry_str'] = harbor_baths['geometry_str'].str[25:] # ensures lattitude is matched\n",
    "\n",
    "# apply function from earlier\n",
    "lng_lats = [extract_lng_lat(location) for location in harbor_baths.loc[:,'geometry_str']]\n",
    "harbor_baths['lat'] =  [lng for lat, lng in lng_lats]\n",
    "\n",
    "harbor_baths = harbor_baths.drop('geometry_str', axis=1) # drop irrelevant column\n",
    "harbor_baths = harbor_baths.drop('geometry', axis=1) # drop irrelevant column\n",
    "harbor_baths.reset_index(drop=True, inplace=True) \n",
    "harbor_baths.head() # inspect data"
   ]
  },
  {
   "cell_type": "markdown",
   "metadata": {},
   "source": [
    "## Schools"
   ]
  },
  {
   "cell_type": "markdown",
   "metadata": {},
   "source": [
    "### School Data Frederiksberg"
   ]
  },
  {
   "cell_type": "code",
   "execution_count": null,
   "metadata": {},
   "outputs": [],
   "source": [
    "response = requests.get('https://overpass-api.de/api/interpreter?data=[out:xml][timeout:25];(area[\"wikidata\"=\"Q2488464\"]->.place;node[\"amenity\"=\"school\"](area.place);relation[\"amenity\"=\"school\"](area.place);way[\"amenity\"=\"school\"](area.place););out geom;')\n",
    "\n",
    "string_frb = response.text.replace(\"\\n\",\"\")\n",
    "geojson_school_frb= osm2geojson.xml2geojson(string_frb)\n",
    "\n",
    "schools_frb = gpd.GeoDataFrame.from_features(geojson_school_frb[\"features\"])\n",
    "schools_frb.rename(columns = {'tags':'name'}, inplace = True)\n",
    "schools_frb # inspect result"
   ]
  },
  {
   "cell_type": "code",
   "execution_count": null,
   "metadata": {},
   "outputs": [],
   "source": [
    "name_schools = [d.get('name') for d in schools_frb.name]\n",
    "schools_frb['name'] = name_schools"
   ]
  },
  {
   "cell_type": "code",
   "execution_count": null,
   "metadata": {},
   "outputs": [],
   "source": [
    "schools_frb[\"lng\"] = schools_frb.centroid.map(lambda p: p.x)\n",
    "schools_frb[\"lat\"] = schools_frb.centroid.map(lambda p: p.y)"
   ]
  },
  {
   "cell_type": "code",
   "execution_count": null,
   "metadata": {},
   "outputs": [],
   "source": [
    "schools_frb.drop([1, 3,4,5,6,11,15], inplace=True)\n",
    "schools_frb = schools_frb.drop(['type','id'],axis=1)\n",
    "schools_frb.reset_index(drop=True)"
   ]
  },
  {
   "cell_type": "markdown",
   "metadata": {},
   "source": [
    "### School Data on Municipality of Copenhagen"
   ]
  },
  {
   "cell_type": "code",
   "execution_count": null,
   "metadata": {},
   "outputs": [],
   "source": [
    "response = requests.get('https://overpass-api.de/api/interpreter?data=[out:xml][timeout:25];(area[\"wikidata\"=\"Q504125\"]->.place;node[\"amenity\"=\"school\"](area.place);relation[\"amenity\"=\"school\"](area.place);way[\"amenity\"=\"school\"](area.place););out geom;')\n",
    "\n",
    "string_cph = response.text.replace(\"\\n\",\"\")\n",
    "geojson_school_cph= osm2geojson.xml2geojson(string_cph)\n",
    "\n",
    "schools_cph = gpd.GeoDataFrame.from_features(geojson_school_cph[\"features\"])\n",
    "schools_cph.rename(columns = {'tags':'name'}, inplace = True)\n",
    "schools_cph # inspect result"
   ]
  },
  {
   "cell_type": "code",
   "execution_count": null,
   "metadata": {},
   "outputs": [],
   "source": [
    "name_schools = [d.get('name') for d in schools_cph.name]\n",
    "schools_cph['name'] = name_schools"
   ]
  },
  {
   "cell_type": "code",
   "execution_count": null,
   "metadata": {},
   "outputs": [],
   "source": [
    "schools_cph[\"lng\"] = schools_cph.centroid.map(lambda p: p.x)\n",
    "schools_cph[\"lat\"] = schools_cph.centroid.map(lambda p: p.y)"
   ]
  },
  {
   "cell_type": "code",
   "execution_count": null,
   "metadata": {},
   "outputs": [],
   "source": [
    "schools_cph.drop(schools_cph.index[14:26], inplace=True)\n",
    "schools_cph.drop([0,2,3,6,7,8,9,12,26,27,28,29,30,34,38,52,60], inplace=True)\n",
    "schools_cph.drop([92,94,99,104,107,108,111,112,113,114,127,128,132,134], inplace=True)\n",
    "schools_cph = schools_cph[schools_cph.name.notnull()] # remove None values\n",
    "schools_cph = schools_cph.drop(['type','id'],axis=1)\n",
    "schools_cph.reset_index(drop=True)"
   ]
  },
  {
   "cell_type": "markdown",
   "metadata": {},
   "source": [
    "### Concatenate"
   ]
  },
  {
   "cell_type": "code",
   "execution_count": null,
   "metadata": {},
   "outputs": [],
   "source": [
    "combine_schools = [schools_frb, schools_cph]\n",
    "schools_total = pd.concat(combine_schools)\n",
    "schools_total.reset_index(inplace=True, drop=True) # reset index\n",
    "schools_total"
   ]
  },
  {
   "cell_type": "markdown",
   "metadata": {},
   "source": [
    "# Change Projections of Spatial Attributes to Calculate Distances"
   ]
  },
  {
   "cell_type": "markdown",
   "metadata": {},
   "source": [
    "To calculate correct distances, we need to specify the correct projection:"
   ]
  },
  {
   "cell_type": "code",
   "execution_count": null,
   "metadata": {},
   "outputs": [],
   "source": [
    "# make a GeoDataFrame of charging station data\n",
    "gdf_charging_stations_total = gpd.GeoDataFrame(\n",
    "    charging_stations_total, geometry=gpd.points_from_xy(charging_stations_total.lng, charging_stations_total.lat), crs = {'init': 'epsg:4326'})\n",
    "gdf_charging_stations_total.to_crs(epsg=25832, inplace=True) # <-- to eastern northing\n",
    "\n",
    "# make a GeoDataFrame of metrostation data\n",
    "gdf_metrostations = gpd.GeoDataFrame(\n",
    "    metrostations, geometry=gpd.points_from_xy(metrostations.lng, metrostations.lat), crs = {'init': 'epsg:4326'})\n",
    "gdf_metrostations.to_crs(epsg=25832, inplace=True)    # change projection to eastern northing\n",
    "\n",
    "# make a GeoDataFrame of restaurant data\n",
    "gdf_restaurants_total = gpd.GeoDataFrame(\n",
    "    restaurants_total, geometry=gpd.points_from_xy(restaurants_total.lng, restaurants_total.lat), crs = {'init': 'epsg:4326'})\n",
    "gdf_restaurants_total.to_crs(epsg=25832, inplace=True) # <-- to eastern northing\n",
    "\n",
    "# make a GeoDataFrame of mall data\n",
    "gdf_malls_total = gpd.GeoDataFrame(\n",
    "    malls_total, geometry=gpd.points_from_xy(malls_total.lng, malls_total.lat), crs = {'init': 'epsg:4326'})\n",
    "gdf_malls_total.to_crs(epsg=25832, inplace=True) # <-- to eastern northing\n",
    "\n",
    "# make a GeoDataFrame of park data\n",
    "gdf_parks_total = gpd.GeoDataFrame(\n",
    "    parks_total, geometry=gpd.points_from_xy(parks_total.lng, parks_total.lat), crs = {'init': 'epsg:4326'})\n",
    "gdf_parks_total.to_crs(epsg=25832, inplace=True) # <-- to eastern northing\n",
    "\n",
    "# make a GeoDataFrame of harbor bath data\n",
    "gdf_harbor_baths = gpd.GeoDataFrame(\n",
    "    harbor_baths, geometry=gpd.points_from_xy(harbor_baths.lng, harbor_baths.lat), crs = {'init': 'epsg:4326'})\n",
    "gdf_harbor_baths.to_crs(epsg=25832, inplace=True) # <-- to eastern northing\n",
    "\n",
    "# make a GeoDataFrame of school data\n",
    "gdf_schools = gpd.GeoDataFrame(\n",
    "    schools_total, geometry=gpd.points_from_xy(schools_total.lng, schools_total.lat), crs = {'init': 'epsg:4326'})\n",
    "gdf_schools.to_crs(epsg=25832, inplace=True) # <-- to eastern northing"
   ]
  },
  {
   "cell_type": "markdown",
   "metadata": {},
   "source": [
    "# Plotting Spatial Attributes"
   ]
  },
  {
   "cell_type": "code",
   "execution_count": null,
   "metadata": {},
   "outputs": [],
   "source": [
    "houses"
   ]
  },
  {
   "cell_type": "code",
   "execution_count": null,
   "metadata": {},
   "outputs": [],
   "source": [
    "fig, ax = plt.subplots(figsize=(20, 15))\n",
    "\n",
    "# basemap of Copenhagen Area\n",
    "gdf_osm.plot(color='#d7d7d7',edgecolor='black', ax=ax, label = \"Copenhagen Area\")\n",
    "\n",
    "# plot houseprices\n",
    "geo_houses.plot(ax=ax, color = \"blue\", markersize=2,  label = \"Sold apartments\")\n",
    "\n",
    "# plot metrostations\n",
    "metrostations.plot(ax=ax, color = \"red\", markersize=10,  label = \"Metrostations\")\n",
    "\n",
    "# plot charging stations\n",
    "charging_stations_total.plot(ax=ax, color = \"green\", markersize=8,  label = \"EV Charging Stations\")\n",
    "\n",
    "# plot restaurants\n",
    "restaurants_total.plot(ax=ax, color = \"orange\", markersize=10,  label = \"Restaurants\")\n",
    "\n",
    "# plot malls\n",
    "malls_total.plot(ax=ax, color = \"pink\",  label = \"Malls\")\n",
    "\n",
    "# plot parks\n",
    "parks_total.plot(ax=ax, color = \"brown\",  label = \"Parks\")\n",
    "\n",
    "# plot harbor baths\n",
    "gdf_harbor_baths.plot(ax=ax, color = \"black\",  label = \"Harbor Baths\")\n",
    "\n",
    "# plot schools\n",
    "gdf_schools.plot(ax=ax, color = \"lightsteelblue\",  label = \"Schools\")\n",
    "\n",
    "# narrow xlim\n",
    "ax.set_xlim([716000, 730000])\n",
    "ax.set_axis_off()\n",
    "ax.set_title(f'Apartments sold in Copenhagen and Frederiksberg municipality {year_from}-{date.today()} & Local Attributes', fontsize=22)\n",
    "\n",
    "# handle legend \n",
    "lgnd = fig.legend(loc=7, ncol=1, fontsize = 15)    \n",
    "lgnd.legendHandles[0]._sizes = [40]\n",
    "\n",
    "\n",
    "fig.subplots_adjust(right=0.95)"
   ]
  },
  {
   "cell_type": "code",
   "execution_count": null,
   "metadata": {},
   "outputs": [],
   "source": [
    "# Read in the zip code GeoJson file from Github and look at the first few rows.\n",
    "url = \"https://raw.githubusercontent.com/ok-dk/dagi/master/geojson/postnumre.geojson\" \n",
    "zip_code = gpd.read_file(url)\n",
    "\n",
    "# Use correct coordinate reference system\n",
    "#zipcode.to_crs(epsg=25832, inplace=True) \n",
    "\n",
    "# inspect data\n",
    "zip_code.head()"
   ]
  },
  {
   "cell_type": "code",
   "execution_count": null,
   "metadata": {},
   "outputs": [],
   "source": [
    "# Fetch zip codes the for municipalities of Copenhagen and Frederiksberg\n",
    "\n",
    "cph_list = ['København K', 'København Ø', 'København V', 'København SV', 'København NV', 'København N', 'København S', 'Vanløse', 'Brønshøj', 'Valby', 'Frederiksberg', 'Frederiksberg C'] \n",
    "houses = houses.loc[houses['city'].isin(cph_list)]\n",
    "zip_code = zip_code.loc[zip_code['POSTBYNAVN'].isin(cph_list)]"
   ]
  },
  {
   "cell_type": "code",
   "execution_count": null,
   "metadata": {},
   "outputs": [],
   "source": [
    "zip_code.set_crs(epsg=4326, inplace=True, allow_override=True)\n",
    "zip_code.to_crs(epsg=25832, inplace=True) "
   ]
  },
  {
   "cell_type": "code",
   "execution_count": null,
   "metadata": {},
   "outputs": [],
   "source": [
    "fig, ax = plt.subplots(figsize=(20, 15))\n",
    "\n",
    "# basemap of Copenhagen Area\n",
    "gdf_osm.plot(color='#d7d7d7',edgecolor='black', ax=ax, label = \"Copenhagen Area\")\n",
    "\n",
    "zip_code.plot(color='#d7d7d7',edgecolor='black', ax=ax)\n",
    "\n",
    "# plot houseprices\n",
    "geo_houses.plot(ax=ax, color = \"blue\",  markersize=2, label = \"Sold apartments\")\n",
    "#geo_houses.plot(ax=ax, alpha = .1)\n",
    "\n",
    "# plot metrostations\n",
    "metrostations.plot(ax=ax, color = \"red\", markersize=10,  label = \"Metrostations\")\n",
    "\n",
    "# plot charging stations\n",
    "charging_stations_total.plot(ax=ax, color = \"green\", markersize=8,  label = \"EV Charging Stations\")\n",
    "\n",
    "# plot restaurants\n",
    "restaurants_total.plot(ax=ax, color = \"orange\", markersize=10,  label = \"Restaurants\")\n",
    "\n",
    "# plot malls\n",
    "malls_total.plot(ax=ax,marker=\"s\", color = \"pink\",  label = \"Malls\")\n",
    "\n",
    "# plot parks\n",
    "parks_total.plot(ax=ax, marker=\"v\", color = \"brown\",  label = \"Parks\")\n",
    "\n",
    "# plot harbor baths\n",
    "gdf_harbor_baths.plot(ax=ax, color = \"black\",  label = \"Harbor Baths\")\n",
    "\n",
    "# plot schools\n",
    "gdf_schools.plot(ax=ax, color = \"lightsteelblue\",  label = \"Schools\")\n",
    "\n",
    "# narrow xlim\n",
    "ax.set_xlim([716000, 730000])\n",
    "ax.set_axis_off()\n",
    "ax.set_title(f'Apartments sold in Copenhagen and Frederiksberg municipality {year_from}-{date.today()} & Local Attributes', fontsize=22)\n",
    "\n",
    "# handle legend \n",
    "lgnd = fig.legend(loc=7, ncol=1, fontsize = 15)    \n",
    "lgnd.legendHandles[0]._sizes = [40]\n",
    "\n",
    "\n",
    "fig.subplots_adjust(right=0.95)"
   ]
  },
  {
   "cell_type": "markdown",
   "metadata": {},
   "source": [
    "# Calculate Distances"
   ]
  },
  {
   "cell_type": "markdown",
   "metadata": {},
   "source": [
    "To utilize vectorization of the search of nearest distance we use `scipy`'s `cKDTree spatial index` `.query` method instead of looping through all spatial attributes and finding the one with nearest distance."
   ]
  },
  {
   "cell_type": "code",
   "execution_count": null,
   "metadata": {},
   "outputs": [],
   "source": [
    "# Import packages \n",
    "from scipy.spatial import cKDTree\n",
    "from shapely.geometry import Point"
   ]
  },
  {
   "cell_type": "markdown",
   "metadata": {},
   "source": [
    "**Define function:**"
   ]
  },
  {
   "cell_type": "code",
   "execution_count": null,
   "metadata": {},
   "outputs": [],
   "source": [
    "def ckdnearest(gdfA, gdfB):\n",
    "    \"\"\" Takes geopandasdataframe as input and find the nearest distance between the two for each row.\n",
    "\n",
    "        Parameter\n",
    "        ----------\n",
    "        arg1 : GeoDataFrame_1\n",
    "        arg2 : GeoDataFrame_2\n",
    "\n",
    "        Returns\n",
    "        -------\n",
    "        GeoDataFrame\n",
    "    \"\"\"\n",
    "    nA = np.array(list(gdfA.geometry.apply(lambda x: (x.x, x.y))))\n",
    "    nB = np.array(list(gdfB.geometry.apply(lambda x: (x.x, x.y))))\n",
    "    btree = cKDTree(nB)\n",
    "    dist, idx = btree.query(nA, k=1)\n",
    "    gdfB_nearest = gdfB.iloc[idx].drop(columns=\"geometry\").reset_index(drop=True)\n",
    "    gdf = pd.concat(\n",
    "        [\n",
    "            gdfA.reset_index(drop=True),\n",
    "            gdfB_nearest,\n",
    "            pd.Series(dist, name='nearest_dist')\n",
    "        ], \n",
    "        axis=1)\n",
    "\n",
    "    return gdf"
   ]
  },
  {
   "cell_type": "code",
   "execution_count": null,
   "metadata": {},
   "outputs": [],
   "source": [
    "nearest_charging_station = ckdnearest(geo_houses, gdf_charging_stations_total)\n",
    "nearest_metrostation = ckdnearest(geo_houses, gdf_metrostations)\n",
    "nearest_restaurant = ckdnearest(geo_houses, gdf_restaurants_total)\n",
    "nearest_mall = ckdnearest(geo_houses, gdf_malls_total)\n",
    "nearest_park = ckdnearest(geo_houses, gdf_parks_total)\n",
    "nearest_harbor_bath = ckdnearest(geo_houses, gdf_harbor_baths)\n",
    "nearest_school = ckdnearest(geo_houses, gdf_schools)"
   ]
  },
  {
   "cell_type": "code",
   "execution_count": null,
   "metadata": {},
   "outputs": [],
   "source": [
    "# keep relevant columns & rename\n",
    "nearest_charging_station = nearest_charging_station.iloc[:,-4:]\n",
    "nearest_charging_station.rename(columns={'nearest_dist':'nearest_dist_charging_station'}, inplace = True) \n",
    "\n",
    "nearest_metrostation = nearest_metrostation.iloc[:,-5:]\n",
    "nearest_metrostation.rename(columns={'nearest_dist':'nearest_dist_metrostation'}, inplace = True) \n",
    "\n",
    "nearest_restaurant = nearest_restaurant.iloc[:,-4:]\n",
    "nearest_restaurant.rename(columns={'nearest_dist':'nearest_dist_restaurant'}, inplace = True) \n",
    "\n",
    "nearest_mall = nearest_mall.iloc[:,-4:]\n",
    "nearest_mall.rename(columns={'nearest_dist':'nearest_dist_mall'}, inplace = True) \n",
    "\n",
    "nearest_park = nearest_park.iloc[:,-4:]\n",
    "nearest_park.rename(columns={'nearest_dist':'nearest_dist_park'}, inplace = True) \n",
    "\n",
    "nearest_harbor_bath = nearest_harbor_bath.iloc[:,-4:]\n",
    "nearest_harbor_bath.rename(columns={'nearest_dist':'nearest_dist_bath'}, inplace = True) \n",
    "\n",
    "nearest_school = nearest_school.iloc[:,-4:]\n",
    "nearest_school.rename(columns={'nearest_dist':'nearest_dist_school'}, inplace = True) "
   ]
  },
  {
   "cell_type": "code",
   "execution_count": null,
   "metadata": {},
   "outputs": [],
   "source": [
    "geo_houses.reset_index(level=0, inplace=True) # reset index to allow merge\n",
    "\n",
    "pd1 = pd.merge(geo_houses, nearest_charging_station, left_index=True, right_index=True)\n",
    "pd2 = pd.merge(pd1, nearest_metrostation, left_index=True, right_index=True)\n",
    "pd3 = pd.merge(pd2, nearest_restaurant, left_index=True, right_index=True)\n",
    "pd4 = pd.merge(pd3, nearest_mall, left_index=True, right_index=True)\n",
    "pd5 = pd.merge(pd4, nearest_park, left_index=True, right_index=True)\n",
    "pd6 = pd.merge(pd5, nearest_school, left_index=True, right_index=True)\n",
    "merged_geo_houses = pd.merge(pd6, nearest_harbor_bath, left_index=True, right_index=True)\n",
    "merged_geo_houses"
   ]
  },
  {
   "cell_type": "markdown",
   "metadata": {},
   "source": [
    "# Descriptive Analysis"
   ]
  },
  {
   "cell_type": "markdown",
   "metadata": {},
   "source": [
    "## Heat Map"
   ]
  },
  {
   "cell_type": "markdown",
   "metadata": {},
   "source": [
    "`sjoin()`"
   ]
  },
  {
   "cell_type": "code",
   "execution_count": null,
   "metadata": {},
   "outputs": [],
   "source": [
    "zip_code_expl = zip_code.sjoin(merged_geo_houses)\n",
    "zip_code_expl.head()"
   ]
  },
  {
   "cell_type": "code",
   "execution_count": null,
   "metadata": {},
   "outputs": [],
   "source": [
    "zip_code_expl_mean_price = zip_code_expl.groupby(['POSTBYNAVN'])['real_price'].mean().sort_values(ascending=False)\n",
    "zip_code_expl_mean_price = zip_code_expl_mean_price.to_frame()"
   ]
  },
  {
   "cell_type": "code",
   "execution_count": null,
   "metadata": {},
   "outputs": [],
   "source": [
    "# Reset index and column names\n",
    "zip_code_expl_mean_price.reset_index(inplace=True)\n",
    "zip_code_expl_mean_price.columns = ['POSTBYNAVN', 'real_Price_mean']\n",
    "zip_code_expl_mean_price.head()"
   ]
  },
  {
   "cell_type": "code",
   "execution_count": null,
   "metadata": {},
   "outputs": [],
   "source": [
    "# Merge zip codes and ladestander_by_zipcode_counts_df: \n",
    "zipcode_and_mean_Price = pd.merge(zip_code_expl,zip_code_expl_mean_price, on = 'POSTBYNAVN')\n",
    "zipcode_and_mean_Price.head()"
   ]
  },
  {
   "cell_type": "code",
   "execution_count": null,
   "metadata": {},
   "outputs": [],
   "source": [
    "zipcode_and_mean_Price.plot(column = 'real_Price_mean', legend = True)"
   ]
  },
  {
   "cell_type": "code",
   "execution_count": null,
   "metadata": {},
   "outputs": [],
   "source": [
    "fig, ax = plt.subplots(figsize=(20, 15))\n",
    "\n",
    "\n",
    "# basemap of Copenhagen Area\n",
    "#gdf_osm.plot(color='#d7d7d7',edgecolor='black', ax=ax, label = \"Copenhagen Area\")\n",
    "\n",
    "zipcode_and_mean_Price.plot(column = 'real_Price_mean', cmap=\"Reds\",ax=ax, legend=True)\n",
    "\n",
    "# plot houseprices\n",
    "merged_geo_houses.plot(ax=ax, color = \"blue\",  markersize=2, label = \"Sold apartments\", alpha=0.5)\n",
    "\n",
    "# narrow xlim\n",
    "ax.set_xlim([716000, 730000])\n",
    "ax.set_axis_off()\n",
    "ax.set_title(f'Apartments sales & prices of zip codes', fontsize=22)\n",
    "\n",
    "# handle legend \n",
    "#lgnd = fig.legend(loc=7, ncol=1, fontsize = 15)    \n",
    "#lgnd.legendHandles[0]._sizes = [40]\n",
    "\n",
    "\n",
    "fig.subplots_adjust(right=0.95)"
   ]
  },
  {
   "cell_type": "markdown",
   "metadata": {},
   "source": [
    "## Scatterplots"
   ]
  },
  {
   "cell_type": "code",
   "execution_count": null,
   "metadata": {},
   "outputs": [],
   "source": [
    "from mlxtend.plotting import scatterplotmatrix"
   ]
  },
  {
   "cell_type": "markdown",
   "metadata": {},
   "source": [
    "**We are interest in the period 2012 - presence**"
   ]
  },
  {
   "cell_type": "code",
   "execution_count": null,
   "metadata": {},
   "outputs": [],
   "source": [
    "houses = houses.loc[(houses['year'] >= 2012)]"
   ]
  },
  {
   "cell_type": "code",
   "execution_count": null,
   "metadata": {},
   "outputs": [],
   "source": [
    "# Create matrix of scatterplots\n",
    "cols_scatter = ['rooms', 'buildYear', 'grundskyld', 'monthlyPropertyTax', 'lotSize', \n",
    "                'basementSize', 'toiletQuantity', 'bathroomQuantity','year', 'size','log_real_price']\n",
    "scatterplotmatrix(houses[cols_scatter].values, figsize=(30, 24), names=cols_scatter, alpha=0.5)\n",
    "plt.tight_layout()\n",
    "plt.show()"
   ]
  },
  {
   "cell_type": "code",
   "execution_count": null,
   "metadata": {},
   "outputs": [],
   "source": [
    "from mlxtend.plotting import heatmap"
   ]
  },
  {
   "cell_type": "code",
   "execution_count": null,
   "metadata": {},
   "outputs": [],
   "source": [
    "plt.rcParams['figure.figsize'] = (20, 10)\n",
    "\n",
    "\n",
    "cm = np.corrcoef(houses[cols_scatter].values.T)\n",
    "hm = heatmap(cm,\n",
    "row_names=cols_scatter,\n",
    "column_names=cols_scatter)\n",
    "plt.show()"
   ]
  },
  {
   "cell_type": "markdown",
   "metadata": {},
   "source": [
    "#### Looking at a particular year (2021)"
   ]
  },
  {
   "cell_type": "code",
   "execution_count": null,
   "metadata": {},
   "outputs": [],
   "source": [
    "houses2 = houses.loc[(houses['year'] == 2021)]"
   ]
  },
  {
   "cell_type": "code",
   "execution_count": null,
   "metadata": {},
   "outputs": [],
   "source": [
    "# Create matrix of scatterplots\n",
    "cols_scatter = ['rooms', 'buildYear', 'grundskyld', 'monthlyPropertyTax', 'lotSize', \n",
    "                'basementSize', 'toiletQuantity', 'bathroomQuantity', 'size','log_real_price']\n",
    "scatterplotmatrix(houses2[cols_scatter].values, figsize=(30, 24), names=cols_scatter, alpha=0.5)\n",
    "plt.tight_layout()\n",
    "plt.show()"
   ]
  },
  {
   "cell_type": "code",
   "execution_count": null,
   "metadata": {},
   "outputs": [],
   "source": [
    "cm = np.corrcoef(houses2[cols_scatter].values.T)\n",
    "hm = heatmap(cm,\n",
    "row_names=cols_scatter,\n",
    "column_names=cols_scatter)\n",
    "plt.show()"
   ]
  },
  {
   "cell_type": "code",
   "execution_count": null,
   "metadata": {},
   "outputs": [],
   "source": []
  }
 ],
 "metadata": {
  "kernelspec": {
   "display_name": "Python 3.8.13 ('isds')",
   "language": "python",
   "name": "python3"
  },
  "language_info": {
   "codemirror_mode": {
    "name": "ipython",
    "version": 3
   },
   "file_extension": ".py",
   "mimetype": "text/x-python",
   "name": "python",
   "nbconvert_exporter": "python",
   "pygments_lexer": "ipython3",
   "version": "3.8.13"
  },
  "vscode": {
   "interpreter": {
    "hash": "eb35b62daf4accdfce60cb883a74fccc9259adbd71546cb5c68417d54bf2076b"
   }
  }
 },
 "nbformat": 4,
 "nbformat_minor": 4
}

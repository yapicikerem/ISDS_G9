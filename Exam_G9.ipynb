{
 "cells": [
  {
   "cell_type": "markdown",
   "metadata": {},
   "source": [
    "# Examining how geospatial data can help improve predicting housing prices\n",
    "Group 9 - Julius Løve Fischer, Hans Chirstian Jul Lehmann & Kerem Yapici\n",
    "\n",
    "## Importing packages and unzipping data from boliga.dk"
   ]
  },
  {
   "cell_type": "code",
   "execution_count": 1,
   "metadata": {},
   "outputs": [],
   "source": [
    "import pandas as pd\n",
    "import numpy as np\n",
    "from numpy import NaN\n",
    "#import requests\n",
    "from datetime import date\n",
    "#import time\n",
    "#import math\n",
    "#import os\n",
    "#import ast\n",
    "#import json\n",
    "import matplotlib.pyplot as plt\n",
    "#import tqdm\n",
    "import seaborn as sns\n",
    "#import folium\n",
    "#import geopandas as gpd\n",
    "#import fiona\n",
    "#from shapely.geometry import Point\n",
    "%matplotlib inline"
   ]
  },
  {
   "cell_type": "code",
   "execution_count": 2,
   "metadata": {},
   "outputs": [],
   "source": [
    "# Saving the merged file - will use this from now on\n",
    "#path = r'C:\\Users\\Kerem\\Desktop'\n",
    "\n",
    "#boliga.to_csv(path +'/boliga.csv')"
   ]
  },
  {
   "cell_type": "code",
   "execution_count": 3,
   "metadata": {},
   "outputs": [],
   "source": [
    "boliga = pd.read_csv(r'C:\\Users\\Kerem\\Desktop' + '/boliga.csv')"
   ]
  },
  {
   "cell_type": "code",
   "execution_count": 4,
   "metadata": {},
   "outputs": [
    {
     "name": "stdout",
     "output_type": "stream",
     "text": [
      "<class 'pandas.core.frame.DataFrame'>\n",
      "RangeIndex: 88786 entries, 0 to 88785\n",
      "Data columns (total 50 columns):\n",
      " #   Column                   Non-Null Count  Dtype  \n",
      "---  ------                   --------------  -----  \n",
      " 0   Unnamed: 0               88786 non-null  int64  \n",
      " 1   address                  88786 non-null  object \n",
      " 2   zipCode                  88786 non-null  int64  \n",
      " 3   price                    88786 non-null  int64  \n",
      " 4   propertyType             88786 non-null  int64  \n",
      " 5   saleType                 88786 non-null  object \n",
      " 6   sqmPrice                 88786 non-null  float64\n",
      " 7   rooms                    88786 non-null  float64\n",
      " 8   size                     88786 non-null  int64  \n",
      " 9   buildYear                88786 non-null  int64  \n",
      " 10  latitude                 88786 non-null  float64\n",
      " 11  longitude                88786 non-null  float64\n",
      " 12  municipalityCode         88786 non-null  int64  \n",
      " 13  city                     88786 non-null  object \n",
      " 14  unitId                   88786 non-null  object \n",
      " 15  addressFloor             74369 non-null  float64\n",
      " 16  ejendomsværdiskat        88786 non-null  float64\n",
      " 17  grundskyld               88786 non-null  float64\n",
      " 18  propertyTypeName         88786 non-null  object \n",
      " 19  buildingInfo             88786 non-null  object \n",
      " 20  monthlyPropertyTax       88786 non-null  float64\n",
      " 21  lotSize                  88786 non-null  float64\n",
      " 22  roomsQuantity            88786 non-null  float64\n",
      " 23  area                     88786 non-null  float64\n",
      " 24  areaRecorded             88786 non-null  float64\n",
      " 25  evaluationPrice          88786 non-null  float64\n",
      " 26  basementSize             88786 non-null  float64\n",
      " 27  appliance                88786 non-null  object \n",
      " 28  propertyUnitType         88786 non-null  object \n",
      " 29  propertyCondemned        88786 non-null  object \n",
      " 30  areaUnit                 88786 non-null  int64  \n",
      " 31  areaLiving               88786 non-null  int64  \n",
      " 32  areaBusiness             88786 non-null  int64  \n",
      " 33  areaOther                88786 non-null  int64  \n",
      " 34  areaSocial               88786 non-null  int64  \n",
      " 35  areaOpenCovered          88786 non-null  int64  \n",
      " 36  roomsQuantity.1          88786 non-null  int64  \n",
      " 37  areaClosedCovered        88786 non-null  int64  \n",
      " 38  roomsBusinessQuantity    88786 non-null  int64  \n",
      " 39  toiletCode               88786 non-null  object \n",
      " 40  toiletQuantity           88786 non-null  int64  \n",
      " 41  bathroomCode             88786 non-null  object \n",
      " 42  bathroomQuantity         88786 non-null  int64  \n",
      " 43  kitchenCode              88786 non-null  object \n",
      " 44  energyCode               88786 non-null  object \n",
      " 45  heatingInstallationCode  88786 non-null  object \n",
      " 46  heatingCode              88786 non-null  object \n",
      " 47  heatingSecondaryCode     88786 non-null  object \n",
      " 48  usageCode                88786 non-null  object \n",
      " 49  notes                    88786 non-null  object \n",
      "dtypes: float64(14), int64(18), object(18)\n",
      "memory usage: 33.9+ MB\n"
     ]
    }
   ],
   "source": [
    "pd.set_option('display.max_columns', None)\n",
    "\n",
    "# getting a overview of data\n",
    "boliga.describe()\n",
    "\n",
    "# Column type\n",
    "boliga.info()"
   ]
  },
  {
   "cell_type": "markdown",
   "metadata": {},
   "source": [
    "## Data cleaning"
   ]
  },
  {
   "cell_type": "code",
   "execution_count": 5,
   "metadata": {},
   "outputs": [],
   "source": [
    "# converting column types automatically\n",
    "boliga.convert_dtypes().dtypes\n",
    "\n",
    "# removing duplicate columns\n",
    "boliga = boliga.drop(columns=['roomsQuantity.1']).copy()\n"
   ]
  },
  {
   "cell_type": "code",
   "execution_count": 7,
   "metadata": {},
   "outputs": [],
   "source": [
    "pd.set_option('display.max_rows', 100)\n",
    "\n",
    "# replacing '-' with np.NaN\n",
    "boliga.replace('-', np.NaN, inplace=True)\n",
    "\n",
    "# This way, we can count the number of missing values per column;\n",
    "boliga.isnull().sum() \n",
    "\n",
    "# as a share of total\n",
    "share = boliga.isnull().sum(axis=0) * 100 / len(boliga)\n",
    "\n",
    "# dropping columns with NaN share of >=20%\n",
    "list = ['Unnamed: 0', 'heatingCode', 'energyCode', 'heatingInstallationCode', 'heatingSecondaryCode', 'usageCode']\n",
    "\n",
    "#other non-relevant columns\n",
    "non_relevant = ['area', 'areaBusiness','areaClosedCovered','areaLiving','areaOpenCovered','areaOther',\n",
    "'areaRecorded', 'appliance', 'areaSocial', 'areaUnit','basementSize','notes','propertyCondemned', 'propertyTypeName', 'propertyUnitType', 'roomsBusinessQuantity','toiletCode', 'size']\n",
    "\n",
    "# extending list with non-relevant\n",
    "list.extend(non_relevant)\n",
    "\n",
    "# dropping lists\n",
    "boliga = boliga.drop(columns=list)\n"
   ]
  },
  {
   "cell_type": "code",
   "execution_count": 36,
   "metadata": {},
   "outputs": [
    {
     "data": {
      "text/plain": [
       "<function matplotlib.pyplot.show(close=None, block=None)>"
      ]
     },
     "execution_count": 36,
     "metadata": {},
     "output_type": "execute_result"
    },
    {
     "data": {
      "image/png": "[encoded data removed]",
      "text/plain": [
       "<Figure size 432x288 with 1 Axes>"
      ]
     },
     "metadata": {
      "needs_background": "light"
     },
     "output_type": "display_data"
    }
   ],
   "source": [
    "sns.barplot(data=share)\n",
    "plt.show"
   ]
  },
  {
   "cell_type": "code",
   "execution_count": 30,
   "metadata": {},
   "outputs": [
    {
     "name": "stdout",
     "output_type": "stream",
     "text": [
      "<class 'pandas.core.frame.DataFrame'>\n",
      "RangeIndex: 88786 entries, 0 to 88785\n",
      "Data columns (total 25 columns):\n",
      " #   Column              Non-Null Count  Dtype  \n",
      "---  ------              --------------  -----  \n",
      " 0   address             88786 non-null  object \n",
      " 1   zipCode             88786 non-null  int64  \n",
      " 2   price               88786 non-null  int64  \n",
      " 3   propertyType        88786 non-null  int64  \n",
      " 4   saleType            88786 non-null  object \n",
      " 5   sqmPrice            88786 non-null  float64\n",
      " 6   rooms               88786 non-null  float64\n",
      " 7   buildYear           88786 non-null  int64  \n",
      " 8   latitude            88786 non-null  float64\n",
      " 9   longitude           88786 non-null  float64\n",
      " 10  municipalityCode    88786 non-null  int64  \n",
      " 11  city                88786 non-null  object \n",
      " 12  unitId              88786 non-null  object \n",
      " 13  addressFloor        74369 non-null  float64\n",
      " 14  ejendomsværdiskat   88786 non-null  float64\n",
      " 15  grundskyld          88786 non-null  float64\n",
      " 16  buildingInfo        88786 non-null  object \n",
      " 17  monthlyPropertyTax  88786 non-null  float64\n",
      " 18  lotSize             88786 non-null  float64\n",
      " 19  roomsQuantity       88786 non-null  float64\n",
      " 20  evaluationPrice     88786 non-null  float64\n",
      " 21  toiletQuantity      88786 non-null  int64  \n",
      " 22  bathroomCode        88786 non-null  object \n",
      " 23  bathroomQuantity    88786 non-null  int64  \n",
      " 24  kitchenCode         88786 non-null  object \n",
      "dtypes: float64(11), int64(7), object(7)\n",
      "memory usage: 16.9+ MB\n"
     ]
    }
   ],
   "source": [
    "boliga.info()"
   ]
  },
  {
   "cell_type": "code",
   "execution_count": null,
   "metadata": {},
   "outputs": [],
   "source": [
    "# checking relevant variables for zero value \n",
    "\n",
    "boliga['bathroomQuantity'].unique()\n",
    "\n",
    "# dropping columns with 0 values    \n",
    "boliga = boliga.loc[(boliga[['buildYear', 'ejendomsværdiskat','grundskyld', 'monthlyPropertyTax', 'toiletQuantity', 'bathroomQuantity']] != 0).all(axis=1)].reset_index(drop=True)\n"
   ]
  },
  {
   "cell_type": "code",
   "execution_count": 28,
   "metadata": {},
   "outputs": [
    {
     "data": {
      "text/plain": [
       "array([3, 1, 2], dtype=int64)"
      ]
     },
     "execution_count": 28,
     "metadata": {},
     "output_type": "execute_result"
    }
   ],
   "source": [
    "pd.DataFrame(boliga.columns).to_latex(column_format='lcccc')\n",
    "\n",
    "boliga['propertyType'].unique()"
   ]
  },
  {
   "cell_type": "markdown",
   "metadata": {},
   "source": [
    "## Outliers"
   ]
  },
  {
   "cell_type": "code",
   "execution_count": null,
   "metadata": {},
   "outputs": [
    {
     "name": "stdout",
     "output_type": "stream",
     "text": [
      "\\begin{tabular}{lr}\n",
      "\\toprule\n",
      "{} &   sqmPrice \\\\\n",
      "\\midrule\n",
      "count &   70312.00 \\\\\n",
      "mean  &   37644.64 \\\\\n",
      "std   &   26628.60 \\\\\n",
      "min   &     182.14 \\\\\n",
      "25\\%   &   26813.02 \\\\\n",
      "50\\%   &   36137.49 \\\\\n",
      "75\\%   &   45928.99 \\\\\n",
      "max   & 4730769.00 \\\\\n",
      "\\bottomrule\n",
      "\\end{tabular}\n",
      "\n"
     ]
    }
   ],
   "source": [
    "pd.set_option('display.float_format', lambda x: '%.2f' % x)\n",
    "boliga[['sqmPrice']].describe()\n",
    "\n",
    "print(boliga[['sqmPrice']].describe().to_latex(index=True))"
   ]
  },
  {
   "cell_type": "code",
   "execution_count": null,
   "metadata": {},
   "outputs": [
    {
     "name": "stdout",
     "output_type": "stream",
     "text": [
      "       zipCode        price  propertyType   sqmPrice    rooms     size  \\\n",
      "count 70312.00     70312.00      70312.00   70312.00 70312.00 70312.00   \n",
      "mean   2215.60   3651294.08          2.71   37644.64     3.30    97.08   \n",
      "std     344.36   2632192.90          0.66   26628.60     1.46    43.27   \n",
      "min    1050.00     14025.00          1.00     182.14     1.00    22.00   \n",
      "25%    2000.00   2050000.00          3.00   26813.02     2.00    64.00   \n",
      "50%    2300.00   3100000.00          3.00   36137.49     3.00    90.00   \n",
      "75%    2450.00   4519895.00          3.00   45928.99     4.00   119.00   \n",
      "max    2900.00 123000000.00          3.00 4730769.00    35.00   971.00   \n",
      "\n",
      "       buildYear  latitude  longitude  municipalityCode  addressFloor  \\\n",
      "count   70312.00  70312.00   70312.00          70312.00      57363.00   \n",
      "mean     1944.25     55.68      12.55            108.39          2.22   \n",
      "std        43.92      0.02       0.04             16.89          1.90   \n",
      "min      1623.00     55.62      12.45            101.00         -1.00   \n",
      "25%      1913.00     55.66      12.52            101.00          1.00   \n",
      "50%      1936.00     55.68      12.55            101.00          2.00   \n",
      "75%      1975.00     55.70      12.59            101.00          3.00   \n",
      "max      2022.00     55.73      12.64            147.00         29.00   \n",
      "\n",
      "       ejendomsværdiskat  grundskyld  monthlyPropertyTax  lotSize  \\\n",
      "count           70312.00    70312.00            70312.00 70312.00   \n",
      "mean            13337.61    14829.45             2347.26   107.15   \n",
      "std              7834.39    16317.03             1765.18   241.52   \n",
      "min               767.55      149.60              250.00     0.00   \n",
      "25%              7770.00     4202.40             1030.00     0.00   \n",
      "50%             12075.00     7689.83             1773.00     0.00   \n",
      "75%             16800.00    16571.60             3069.00     0.00   \n",
      "max            282550.00   227708.20            40199.00  2425.00   \n",
      "\n",
      "       roomsQuantity  evaluationPrice  toiletQuantity  bathroomQuantity  \n",
      "count       70312.00         70312.00        70312.00          70312.00  \n",
      "mean            3.30       2219342.11            1.23              1.12  \n",
      "std             1.46       1413768.52            0.49              0.34  \n",
      "min             1.00        220000.00            1.00              1.00  \n",
      "25%             2.00       1150000.00            1.00              1.00  \n",
      "50%             3.00       1950000.00            1.00              1.00  \n",
      "75%             4.00       2850000.00            1.00              1.00  \n",
      "max            35.00      23300000.00           22.00              7.00  \n"
     ]
    }
   ],
   "source": [
    "print(boliga.describe())"
   ]
  },
  {
   "cell_type": "code",
   "execution_count": null,
   "metadata": {},
   "outputs": [
    {
     "name": "stderr",
     "output_type": "stream",
     "text": [
      "C:\\Users\\Kerem\\AppData\\Local\\Temp\\ipykernel_22172\\3492731009.py:7: SettingWithCopyWarning: \n",
      "A value is trying to be set on a copy of a slice from a DataFrame.\n",
      "Try using .loc[row_indexer,col_indexer] = value instead\n",
      "\n",
      "See the caveats in the documentation: https://pandas.pydata.org/pandas-docs/stable/user_guide/indexing.html#returning-a-view-versus-a-copy\n",
      "  boliga['sqmPrice_log'] = np.log(boliga['sqmPrice'])\n"
     ]
    },
    {
     "data": {
      "text/plain": [
       "<function matplotlib.pyplot.show(close=None, block=None)>"
      ]
     },
     "execution_count": 16,
     "metadata": {},
     "output_type": "execute_result"
    },
    {
     "data": {
      "image/png": "[encoded data removed]",
      "text/plain": [
       "<Figure size 432x288 with 1 Axes>"
      ]
     },
     "metadata": {
      "needs_background": "light"
     },
     "output_type": "display_data"
    }
   ],
   "source": [
    "# checking sqmprice\n",
    "boliga = boliga.loc[(boliga['sqmPrice']<=126000) & (boliga['sqmPrice']>=10000)]\n",
    "\n",
    "#boliga[['sqmPrice']].describe()\n",
    "\n",
    "# taking log\n",
    "boliga['sqmPrice_log'] = np.log(boliga['sqmPrice'])\n",
    "\n",
    "# plotting\n",
    "sns.boxplot(x=boliga['sqmPrice'])\n",
    "plt.show"
   ]
  },
  {
   "cell_type": "code",
   "execution_count": null,
   "metadata": {},
   "outputs": [
    {
     "name": "stderr",
     "output_type": "stream",
     "text": [
      "c:\\Users\\Kerem\\anaconda3\\envs\\isds\\lib\\site-packages\\seaborn\\_decorators.py:36: FutureWarning: Pass the following variable as a keyword arg: x. From version 0.12, the only valid positional argument will be `data`, and passing other arguments without an explicit keyword will result in an error or misinterpretation.\n",
      "  warnings.warn(\n",
      "c:\\Users\\Kerem\\anaconda3\\envs\\isds\\lib\\site-packages\\seaborn\\_decorators.py:36: FutureWarning: Pass the following variable as a keyword arg: x. From version 0.12, the only valid positional argument will be `data`, and passing other arguments without an explicit keyword will result in an error or misinterpretation.\n",
      "  warnings.warn(\n"
     ]
    },
    {
     "data": {
      "text/plain": [
       "<Figure size 432x288 with 0 Axes>"
      ]
     },
     "metadata": {},
     "output_type": "display_data"
    },
    {
     "data": {
      "image/png": "[encoded data removed]",
      "text/plain": [
       "<Figure size 1080x360 with 4 Axes>"
      ]
     },
     "metadata": {
      "needs_background": "light"
     },
     "output_type": "display_data"
    }
   ],
   "source": [
    "sns.despine()\n",
    "sns.set_context(\"paper\")\n",
    "# creating a figure composed of two matplotlib.Axes objects (ax_box and ax_hist)\n",
    "fig, (ax_box, ax_hist) = plt.subplots(2,2, sharex=False, gridspec_kw={\"height_ratios\": (.20, .80),}, figsize=(15,5))\n",
    "\n",
    "# assigning a graph to each ax\n",
    "sns.boxplot(boliga['sqmPrice'], ax=ax_box[0]).set(xlabel=None)\n",
    "sns.boxplot(boliga['sqmPrice_log'], ax=ax_box[1]).set(xlabel=None)\n",
    "\n",
    "sns.histplot(data=boliga['sqmPrice'], bins=15, kde=True, ax=ax_hist[0])\n",
    "sns.histplot(data=boliga['sqmPrice_log'], bins=15, kde=True, ax=ax_hist[1])\n",
    "plt.savefig('box_hist_sqmPrices.png', bbox_inches=\"tight\")"
   ]
  },
  {
   "cell_type": "markdown",
   "metadata": {},
   "source": [
    "## Descriptive analysis"
   ]
  }
 ],
 "metadata": {
  "kernelspec": {
   "display_name": "Python 3.8.13 ('isds')",
   "language": "python",
   "name": "python3"
  },
  "language_info": {
   "codemirror_mode": {
    "name": "ipython",
    "version": 3
   },
   "file_extension": ".py",
   "mimetype": "text/x-python",
   "name": "python",
   "nbconvert_exporter": "python",
   "pygments_lexer": "ipython3",
   "version": "3.8.13"
  },
  "orig_nbformat": 4,
  "vscode": {
   "interpreter": {
    "hash": "eb35b62daf4accdfce60cb883a74fccc9259adbd71546cb5c68417d54bf2076b"
   }
  }
 },
 "nbformat": 4,
 "nbformat_minor": 2
}

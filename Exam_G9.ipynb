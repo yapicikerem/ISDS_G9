{
 "cells": [
  {
   "cell_type": "markdown",
   "metadata": {},
   "source": [
    "# Examining how geospatial data can help improve predicting housing prices\n",
    "Group 9 - Julius Løve Fischer, Hans Chirstian Jul Lehmann & Kerem Yapici\n",
    "\n",
    "# Data cleaning"
   ]
  },
  {
   "cell_type": "code",
   "execution_count": null,
   "metadata": {},
   "outputs": [],
   "source": [
    "# Data from api.boliga.dk \n",
    "\n"
   ]
  }
 ],
 "metadata": {
  "kernelspec": {
   "display_name": "Python 3.9.7 ('base')",
   "language": "python",
   "name": "python3"
  },
  "language_info": {
   "name": "python",
   "version": "3.9.7"
  },
  "orig_nbformat": 4,
  "vscode": {
   "interpreter": {
    "hash": "39e23235bf20ba13081802c0be9d977dd47feaef810e9da549b37233f712c9cc"
   }
  }
 },
 "nbformat": 4,
 "nbformat_minor": 2
}
